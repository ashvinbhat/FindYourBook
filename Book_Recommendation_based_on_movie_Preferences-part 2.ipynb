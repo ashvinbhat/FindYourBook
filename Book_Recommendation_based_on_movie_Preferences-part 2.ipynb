{
  "nbformat": 4,
  "nbformat_minor": 0,
  "metadata": {
    "colab": {
      "provenance": []
    },
    "kernelspec": {
      "name": "python3",
      "display_name": "Python 3"
    },
    "language_info": {
      "name": "python"
    },
    "widgets": {
      "application/vnd.jupyter.widget-state+json": {
        "794394c8d5854e83b1fd24e6b23d9b87": {
          "model_module": "@jupyter-widgets/controls",
          "model_name": "HBoxModel",
          "model_module_version": "1.5.0",
          "state": {
            "_dom_classes": [],
            "_model_module": "@jupyter-widgets/controls",
            "_model_module_version": "1.5.0",
            "_model_name": "HBoxModel",
            "_view_count": null,
            "_view_module": "@jupyter-widgets/controls",
            "_view_module_version": "1.5.0",
            "_view_name": "HBoxView",
            "box_style": "",
            "children": [
              "IPY_MODEL_ceb6db7aebde4fd194835e3c37d95f1d",
              "IPY_MODEL_b12d9ae5d28644d8a147933c76225007",
              "IPY_MODEL_7142ce0614a64cd79c51ca4eb7589e86"
            ],
            "layout": "IPY_MODEL_bfe8e107755447a3a701e7ae6bc52569"
          }
        },
        "ceb6db7aebde4fd194835e3c37d95f1d": {
          "model_module": "@jupyter-widgets/controls",
          "model_name": "HTMLModel",
          "model_module_version": "1.5.0",
          "state": {
            "_dom_classes": [],
            "_model_module": "@jupyter-widgets/controls",
            "_model_module_version": "1.5.0",
            "_model_name": "HTMLModel",
            "_view_count": null,
            "_view_module": "@jupyter-widgets/controls",
            "_view_module_version": "1.5.0",
            "_view_name": "HTMLView",
            "description": "",
            "description_tooltip": null,
            "layout": "IPY_MODEL_5d99dc75dbc64256b062720605a84290",
            "placeholder": "​",
            "style": "IPY_MODEL_e6786b7e4a1f4c7fa8523d21d9fe95e7",
            "value": "Computing transition probabilities: 100%"
          }
        },
        "b12d9ae5d28644d8a147933c76225007": {
          "model_module": "@jupyter-widgets/controls",
          "model_name": "FloatProgressModel",
          "model_module_version": "1.5.0",
          "state": {
            "_dom_classes": [],
            "_model_module": "@jupyter-widgets/controls",
            "_model_module_version": "1.5.0",
            "_model_name": "FloatProgressModel",
            "_view_count": null,
            "_view_module": "@jupyter-widgets/controls",
            "_view_module_version": "1.5.0",
            "_view_name": "ProgressView",
            "bar_style": "success",
            "description": "",
            "description_tooltip": null,
            "layout": "IPY_MODEL_63877f3687784503a227e19c27c70081",
            "max": 200,
            "min": 0,
            "orientation": "horizontal",
            "style": "IPY_MODEL_bc4e545b19ee4b68b06207b417ab478a",
            "value": 200
          }
        },
        "7142ce0614a64cd79c51ca4eb7589e86": {
          "model_module": "@jupyter-widgets/controls",
          "model_name": "HTMLModel",
          "model_module_version": "1.5.0",
          "state": {
            "_dom_classes": [],
            "_model_module": "@jupyter-widgets/controls",
            "_model_module_version": "1.5.0",
            "_model_name": "HTMLModel",
            "_view_count": null,
            "_view_module": "@jupyter-widgets/controls",
            "_view_module_version": "1.5.0",
            "_view_name": "HTMLView",
            "description": "",
            "description_tooltip": null,
            "layout": "IPY_MODEL_e3614e3a779d4dbf9d707389ae1cf8b0",
            "placeholder": "​",
            "style": "IPY_MODEL_9c93b1961bbd49f392f1d2d89f54702d",
            "value": " 200/200 [00:20&lt;00:00, 15.73it/s]"
          }
        },
        "bfe8e107755447a3a701e7ae6bc52569": {
          "model_module": "@jupyter-widgets/base",
          "model_name": "LayoutModel",
          "model_module_version": "1.2.0",
          "state": {
            "_model_module": "@jupyter-widgets/base",
            "_model_module_version": "1.2.0",
            "_model_name": "LayoutModel",
            "_view_count": null,
            "_view_module": "@jupyter-widgets/base",
            "_view_module_version": "1.2.0",
            "_view_name": "LayoutView",
            "align_content": null,
            "align_items": null,
            "align_self": null,
            "border": null,
            "bottom": null,
            "display": null,
            "flex": null,
            "flex_flow": null,
            "grid_area": null,
            "grid_auto_columns": null,
            "grid_auto_flow": null,
            "grid_auto_rows": null,
            "grid_column": null,
            "grid_gap": null,
            "grid_row": null,
            "grid_template_areas": null,
            "grid_template_columns": null,
            "grid_template_rows": null,
            "height": null,
            "justify_content": null,
            "justify_items": null,
            "left": null,
            "margin": null,
            "max_height": null,
            "max_width": null,
            "min_height": null,
            "min_width": null,
            "object_fit": null,
            "object_position": null,
            "order": null,
            "overflow": null,
            "overflow_x": null,
            "overflow_y": null,
            "padding": null,
            "right": null,
            "top": null,
            "visibility": null,
            "width": null
          }
        },
        "5d99dc75dbc64256b062720605a84290": {
          "model_module": "@jupyter-widgets/base",
          "model_name": "LayoutModel",
          "model_module_version": "1.2.0",
          "state": {
            "_model_module": "@jupyter-widgets/base",
            "_model_module_version": "1.2.0",
            "_model_name": "LayoutModel",
            "_view_count": null,
            "_view_module": "@jupyter-widgets/base",
            "_view_module_version": "1.2.0",
            "_view_name": "LayoutView",
            "align_content": null,
            "align_items": null,
            "align_self": null,
            "border": null,
            "bottom": null,
            "display": null,
            "flex": null,
            "flex_flow": null,
            "grid_area": null,
            "grid_auto_columns": null,
            "grid_auto_flow": null,
            "grid_auto_rows": null,
            "grid_column": null,
            "grid_gap": null,
            "grid_row": null,
            "grid_template_areas": null,
            "grid_template_columns": null,
            "grid_template_rows": null,
            "height": null,
            "justify_content": null,
            "justify_items": null,
            "left": null,
            "margin": null,
            "max_height": null,
            "max_width": null,
            "min_height": null,
            "min_width": null,
            "object_fit": null,
            "object_position": null,
            "order": null,
            "overflow": null,
            "overflow_x": null,
            "overflow_y": null,
            "padding": null,
            "right": null,
            "top": null,
            "visibility": null,
            "width": null
          }
        },
        "e6786b7e4a1f4c7fa8523d21d9fe95e7": {
          "model_module": "@jupyter-widgets/controls",
          "model_name": "DescriptionStyleModel",
          "model_module_version": "1.5.0",
          "state": {
            "_model_module": "@jupyter-widgets/controls",
            "_model_module_version": "1.5.0",
            "_model_name": "DescriptionStyleModel",
            "_view_count": null,
            "_view_module": "@jupyter-widgets/base",
            "_view_module_version": "1.2.0",
            "_view_name": "StyleView",
            "description_width": ""
          }
        },
        "63877f3687784503a227e19c27c70081": {
          "model_module": "@jupyter-widgets/base",
          "model_name": "LayoutModel",
          "model_module_version": "1.2.0",
          "state": {
            "_model_module": "@jupyter-widgets/base",
            "_model_module_version": "1.2.0",
            "_model_name": "LayoutModel",
            "_view_count": null,
            "_view_module": "@jupyter-widgets/base",
            "_view_module_version": "1.2.0",
            "_view_name": "LayoutView",
            "align_content": null,
            "align_items": null,
            "align_self": null,
            "border": null,
            "bottom": null,
            "display": null,
            "flex": null,
            "flex_flow": null,
            "grid_area": null,
            "grid_auto_columns": null,
            "grid_auto_flow": null,
            "grid_auto_rows": null,
            "grid_column": null,
            "grid_gap": null,
            "grid_row": null,
            "grid_template_areas": null,
            "grid_template_columns": null,
            "grid_template_rows": null,
            "height": null,
            "justify_content": null,
            "justify_items": null,
            "left": null,
            "margin": null,
            "max_height": null,
            "max_width": null,
            "min_height": null,
            "min_width": null,
            "object_fit": null,
            "object_position": null,
            "order": null,
            "overflow": null,
            "overflow_x": null,
            "overflow_y": null,
            "padding": null,
            "right": null,
            "top": null,
            "visibility": null,
            "width": null
          }
        },
        "bc4e545b19ee4b68b06207b417ab478a": {
          "model_module": "@jupyter-widgets/controls",
          "model_name": "ProgressStyleModel",
          "model_module_version": "1.5.0",
          "state": {
            "_model_module": "@jupyter-widgets/controls",
            "_model_module_version": "1.5.0",
            "_model_name": "ProgressStyleModel",
            "_view_count": null,
            "_view_module": "@jupyter-widgets/base",
            "_view_module_version": "1.2.0",
            "_view_name": "StyleView",
            "bar_color": null,
            "description_width": ""
          }
        },
        "e3614e3a779d4dbf9d707389ae1cf8b0": {
          "model_module": "@jupyter-widgets/base",
          "model_name": "LayoutModel",
          "model_module_version": "1.2.0",
          "state": {
            "_model_module": "@jupyter-widgets/base",
            "_model_module_version": "1.2.0",
            "_model_name": "LayoutModel",
            "_view_count": null,
            "_view_module": "@jupyter-widgets/base",
            "_view_module_version": "1.2.0",
            "_view_name": "LayoutView",
            "align_content": null,
            "align_items": null,
            "align_self": null,
            "border": null,
            "bottom": null,
            "display": null,
            "flex": null,
            "flex_flow": null,
            "grid_area": null,
            "grid_auto_columns": null,
            "grid_auto_flow": null,
            "grid_auto_rows": null,
            "grid_column": null,
            "grid_gap": null,
            "grid_row": null,
            "grid_template_areas": null,
            "grid_template_columns": null,
            "grid_template_rows": null,
            "height": null,
            "justify_content": null,
            "justify_items": null,
            "left": null,
            "margin": null,
            "max_height": null,
            "max_width": null,
            "min_height": null,
            "min_width": null,
            "object_fit": null,
            "object_position": null,
            "order": null,
            "overflow": null,
            "overflow_x": null,
            "overflow_y": null,
            "padding": null,
            "right": null,
            "top": null,
            "visibility": null,
            "width": null
          }
        },
        "9c93b1961bbd49f392f1d2d89f54702d": {
          "model_module": "@jupyter-widgets/controls",
          "model_name": "DescriptionStyleModel",
          "model_module_version": "1.5.0",
          "state": {
            "_model_module": "@jupyter-widgets/controls",
            "_model_module_version": "1.5.0",
            "_model_name": "DescriptionStyleModel",
            "_view_count": null,
            "_view_module": "@jupyter-widgets/base",
            "_view_module_version": "1.2.0",
            "_view_name": "StyleView",
            "description_width": ""
          }
        }
      }
    }
  },
  "cells": [
    {
      "cell_type": "code",
      "source": [
        "import os\n",
        "import torch\n",
        "os.environ['TORCH'] = torch.__version__\n",
        "print(torch.__version__)\n",
        "\n",
        "!pip install -q torch-scatter -f https://data.pyg.org/whl/torch-${TORCH}.html\n",
        "!pip install -q torch-sparse -f https://data.pyg.org/whl/torch-${TORCH}.html\n",
        "!pip install torch-geometric\n",
        "\n",
        "import torch_geometric\n",
        "print(torch_geometric.__version__)"
      ],
      "metadata": {
        "colab": {
          "base_uri": "https://localhost:8080/"
        },
        "id": "soxVs7vPi6Ev",
        "outputId": "ad5f9aeb-3ef3-49df-e07b-17cd345e82c8"
      },
      "execution_count": null,
      "outputs": [
        {
          "output_type": "stream",
          "name": "stdout",
          "text": [
            "1.12.1+cu113\n",
            "\u001b[K     |████████████████████████████████| 7.9 MB 4.1 MB/s \n",
            "\u001b[K     |████████████████████████████████| 3.5 MB 4.5 MB/s \n",
            "\u001b[?25hLooking in indexes: https://pypi.org/simple, https://us-python.pkg.dev/colab-wheels/public/simple/\n",
            "Collecting torch-geometric\n",
            "  Downloading torch_geometric-2.1.0.post1.tar.gz (467 kB)\n",
            "\u001b[K     |████████████████████████████████| 467 kB 3.9 MB/s \n",
            "\u001b[?25hRequirement already satisfied: tqdm in /usr/local/lib/python3.7/dist-packages (from torch-geometric) (4.64.1)\n",
            "Requirement already satisfied: numpy in /usr/local/lib/python3.7/dist-packages (from torch-geometric) (1.21.6)\n",
            "Requirement already satisfied: scipy in /usr/local/lib/python3.7/dist-packages (from torch-geometric) (1.7.3)\n",
            "Requirement already satisfied: jinja2 in /usr/local/lib/python3.7/dist-packages (from torch-geometric) (2.11.3)\n",
            "Requirement already satisfied: requests in /usr/local/lib/python3.7/dist-packages (from torch-geometric) (2.23.0)\n",
            "Requirement already satisfied: pyparsing in /usr/local/lib/python3.7/dist-packages (from torch-geometric) (3.0.9)\n",
            "Requirement already satisfied: scikit-learn in /usr/local/lib/python3.7/dist-packages (from torch-geometric) (1.0.2)\n",
            "Requirement already satisfied: MarkupSafe>=0.23 in /usr/local/lib/python3.7/dist-packages (from jinja2->torch-geometric) (2.0.1)\n",
            "Requirement already satisfied: chardet<4,>=3.0.2 in /usr/local/lib/python3.7/dist-packages (from requests->torch-geometric) (3.0.4)\n",
            "Requirement already satisfied: urllib3!=1.25.0,!=1.25.1,<1.26,>=1.21.1 in /usr/local/lib/python3.7/dist-packages (from requests->torch-geometric) (1.24.3)\n",
            "Requirement already satisfied: idna<3,>=2.5 in /usr/local/lib/python3.7/dist-packages (from requests->torch-geometric) (2.10)\n",
            "Requirement already satisfied: certifi>=2017.4.17 in /usr/local/lib/python3.7/dist-packages (from requests->torch-geometric) (2022.9.24)\n",
            "Requirement already satisfied: joblib>=0.11 in /usr/local/lib/python3.7/dist-packages (from scikit-learn->torch-geometric) (1.2.0)\n",
            "Requirement already satisfied: threadpoolctl>=2.0.0 in /usr/local/lib/python3.7/dist-packages (from scikit-learn->torch-geometric) (3.1.0)\n",
            "Building wheels for collected packages: torch-geometric\n",
            "  Building wheel for torch-geometric (setup.py) ... \u001b[?25l\u001b[?25hdone\n",
            "  Created wheel for torch-geometric: filename=torch_geometric-2.1.0.post1-py3-none-any.whl size=689859 sha256=074e43d3d24069297b2c77d578620eb68c5ae67698b490976c2b69152084666c\n",
            "  Stored in directory: /root/.cache/pip/wheels/d1/cb/43/f7f2e472de4d7cff31bceddadc36d634e1e545fbc17961c282\n",
            "Successfully built torch-geometric\n",
            "Installing collected packages: torch-geometric\n",
            "Successfully installed torch-geometric-2.1.0.post1\n",
            "2.1.0\n"
          ]
        }
      ]
    },
    {
      "cell_type": "code",
      "execution_count": null,
      "metadata": {
        "colab": {
          "base_uri": "https://localhost:8080/"
        },
        "id": "JAbkl2e7iAsd",
        "outputId": "73b917a7-9d8c-4d93-c0c6-77814d57cb16"
      },
      "outputs": [
        {
          "output_type": "stream",
          "name": "stdout",
          "text": [
            "Looking in indexes: https://pypi.org/simple, https://us-python.pkg.dev/colab-wheels/public/simple/\n",
            "Collecting gensim==3.8.3\n",
            "  Downloading gensim-3.8.3-cp37-cp37m-manylinux1_x86_64.whl (24.2 MB)\n",
            "\u001b[K     |████████████████████████████████| 24.2 MB 17.6 MB/s \n",
            "\u001b[?25hRequirement already satisfied: scipy>=0.18.1 in /usr/local/lib/python3.7/dist-packages (from gensim==3.8.3) (1.7.3)\n",
            "Requirement already satisfied: six>=1.5.0 in /usr/local/lib/python3.7/dist-packages (from gensim==3.8.3) (1.15.0)\n",
            "Requirement already satisfied: smart-open>=1.8.1 in /usr/local/lib/python3.7/dist-packages (from gensim==3.8.3) (5.2.1)\n",
            "Requirement already satisfied: numpy>=1.11.3 in /usr/local/lib/python3.7/dist-packages (from gensim==3.8.3) (1.21.6)\n",
            "Installing collected packages: gensim\n",
            "  Attempting uninstall: gensim\n",
            "    Found existing installation: gensim 3.6.0\n",
            "    Uninstalling gensim-3.6.0:\n",
            "      Successfully uninstalled gensim-3.6.0\n",
            "Successfully installed gensim-3.8.3\n"
          ]
        }
      ],
      "source": [
        "!pip install gensim==3.8.3\n",
        "from gensim.models import Word2Vec"
      ]
    },
    {
      "cell_type": "code",
      "source": [
        "# Node2Vec\n",
        "!pip install -U node2vec\n",
        "from node2vec import Node2Vec"
      ],
      "metadata": {
        "colab": {
          "base_uri": "https://localhost:8080/"
        },
        "id": "MR-tJ6MYiJR6",
        "outputId": "ea99bd00-0edc-4cda-f64b-5874718141b2"
      },
      "execution_count": null,
      "outputs": [
        {
          "output_type": "stream",
          "name": "stdout",
          "text": [
            "Looking in indexes: https://pypi.org/simple, https://us-python.pkg.dev/colab-wheels/public/simple/\n",
            "Collecting node2vec\n",
            "  Downloading node2vec-0.4.3.tar.gz (4.6 kB)\n",
            "Requirement already satisfied: networkx in /usr/local/lib/python3.7/dist-packages (from node2vec) (2.6.3)\n",
            "Requirement already satisfied: gensim in /usr/local/lib/python3.7/dist-packages (from node2vec) (3.8.3)\n",
            "Requirement already satisfied: numpy in /usr/local/lib/python3.7/dist-packages (from node2vec) (1.21.6)\n",
            "Requirement already satisfied: tqdm in /usr/local/lib/python3.7/dist-packages (from node2vec) (4.64.1)\n",
            "Requirement already satisfied: joblib>=0.13.2 in /usr/local/lib/python3.7/dist-packages (from node2vec) (1.2.0)\n",
            "Requirement already satisfied: scipy>=0.18.1 in /usr/local/lib/python3.7/dist-packages (from gensim->node2vec) (1.7.3)\n",
            "Requirement already satisfied: smart-open>=1.8.1 in /usr/local/lib/python3.7/dist-packages (from gensim->node2vec) (5.2.1)\n",
            "Requirement already satisfied: six>=1.5.0 in /usr/local/lib/python3.7/dist-packages (from gensim->node2vec) (1.15.0)\n",
            "Building wheels for collected packages: node2vec\n",
            "  Building wheel for node2vec (setup.py) ... \u001b[?25l\u001b[?25hdone\n",
            "  Created wheel for node2vec: filename=node2vec-0.4.3-py3-none-any.whl size=5980 sha256=967cd2782e46661e8546a34c78771b25d6f037aaad948f5a0c4accbcc93bf0d1\n",
            "  Stored in directory: /root/.cache/pip/wheels/07/62/78/5202cb8c03cbf1593b48a8a442fca8ceec2a8c80e22318bae9\n",
            "Successfully built node2vec\n",
            "Installing collected packages: node2vec\n",
            "Successfully installed node2vec-0.4.3\n"
          ]
        }
      ]
    },
    {
      "cell_type": "code",
      "source": [
        "import pandas as pd\n",
        "import numpy as np\n",
        "import networkx as nx\n",
        "import random\n",
        "from sklearn.preprocessing import StandardScaler\n",
        "from sklearn.model_selection import train_test_split\n",
        "from torch_geometric.utils.convert import from_networkx\n",
        "from torch_geometric.data import Data\n",
        "from torch_geometric.loader import DataLoader\n",
        "from sklearn.metrics import accuracy_score, roc_curve, roc_auc_score\n",
        "import matplotlib.pyplot as plt"
      ],
      "metadata": {
        "id": "2FfdFdYriT-H"
      },
      "execution_count": null,
      "outputs": []
    },
    {
      "cell_type": "code",
      "source": [
        "device = torch.device('cuda' if torch.cuda.is_available() else 'cpu')"
      ],
      "metadata": {
        "id": "iCfWhIuOjX-8"
      },
      "execution_count": null,
      "outputs": []
    },
    {
      "cell_type": "code",
      "source": [
        "edges = pd.read_csv('/content/graph_data.csv')"
      ],
      "metadata": {
        "id": "SkkjeDLnjbFi"
      },
      "execution_count": null,
      "outputs": []
    },
    {
      "cell_type": "code",
      "source": [
        "G = nx.from_pandas_edgelist(edges, source=\"Source\", target=\"Target\",  edge_attr='Weight')\n",
        "nx.info(G)"
      ],
      "metadata": {
        "colab": {
          "base_uri": "https://localhost:8080/",
          "height": 35
        },
        "id": "DFv-dCHtjiVj",
        "outputId": "55414d28-cb58-4b99-ef0f-472f94721076"
      },
      "execution_count": null,
      "outputs": [
        {
          "output_type": "execute_result",
          "data": {
            "text/plain": [
              "'Graph with 200 nodes and 16726 edges'"
            ],
            "application/vnd.google.colaboratory.intrinsic+json": {
              "type": "string"
            }
          },
          "metadata": {},
          "execution_count": 7
        }
      ]
    },
    {
      "cell_type": "code",
      "source": [
        "degree_cent = nx.degree_centrality(G)\n",
        "bet = nx.betweenness_centrality(G)\n",
        "pgr=nx.pagerank(G)\n",
        "lclu = nx.clustering(G)"
      ],
      "metadata": {
        "id": "5pOVGFSsjog3"
      },
      "execution_count": null,
      "outputs": []
    },
    {
      "cell_type": "code",
      "source": [
        "# take a random sample of edges\n",
        "\n",
        "proportion_edges = 0.25\n",
        "edge_subset = random.sample(G.edges(), int(proportion_edges * G.order()))\n",
        "\n",
        "# the goal is to try and repredict these edges, and measure how close the prediction is to the original\n",
        "# this is the equivalent of splitting into train and test set for link prediction\n",
        "\n",
        "g_train = G.copy()\n",
        "g_train.remove_edges_from(edge_subset)"
      ],
      "metadata": {
        "id": "iQ5MS6zsjz4-"
      },
      "execution_count": null,
      "outputs": []
    },
    {
      "cell_type": "code",
      "source": [
        "N,K = g_train.order(), g_train.size()"
      ],
      "metadata": {
        "id": "P3GBgyfpj91z"
      },
      "execution_count": null,
      "outputs": []
    },
    {
      "cell_type": "code",
      "source": [
        "edge_subset_size = len(list(edge_subset))\n",
        "print(\"Deleted edges =\", str(edge_subset_size))\n",
        "print(\"Remaining edges =\", str(K - edge_subset_size))"
      ],
      "metadata": {
        "colab": {
          "base_uri": "https://localhost:8080/"
        },
        "id": "XtgWbOMkkBkP",
        "outputId": "79d81a26-31c6-4773-e693-a0adf8deadc7"
      },
      "execution_count": null,
      "outputs": [
        {
          "output_type": "stream",
          "name": "stdout",
          "text": [
            "Deleted edges = 50\n",
            "Remaining edges = 16626\n"
          ]
        }
      ]
    },
    {
      "cell_type": "markdown",
      "source": [
        "Jaccard"
      ],
      "metadata": {
        "id": "1oXWD4orkO6O"
      }
    },
    {
      "cell_type": "code",
      "source": [
        "prediction_jaccard = list(nx.jaccard_coefficient(g_train))\n",
        "score_jaccard, label_jaccard = zip(*[(s, (u,v) in edge_subset) for (u,v,s) in prediction_jaccard])"
      ],
      "metadata": {
        "id": "MpUAf9L_kEeQ"
      },
      "execution_count": null,
      "outputs": []
    },
    {
      "cell_type": "code",
      "source": [
        "score_jaccard[:10]"
      ],
      "metadata": {
        "colab": {
          "base_uri": "https://localhost:8080/"
        },
        "id": "7usOuBRhkXTl",
        "outputId": "f45ca520-04eb-48d7-e798-7000d21ee5d1"
      },
      "execution_count": null,
      "outputs": [
        {
          "output_type": "execute_result",
          "data": {
            "text/plain": [
              "(0.7627118644067796,\n",
              " 0.6931818181818182,\n",
              " 0.6612903225806451,\n",
              " 0.5178571428571429,\n",
              " 0.5324675324675324,\n",
              " 0.7142857142857143,\n",
              " 0.7336956521739131,\n",
              " 0.7379679144385026,\n",
              " 0.7287234042553191,\n",
              " 0.7336956521739131)"
            ]
          },
          "metadata": {},
          "execution_count": 13
        }
      ]
    },
    {
      "cell_type": "code",
      "source": [
        "label_jaccard[:10]"
      ],
      "metadata": {
        "colab": {
          "base_uri": "https://localhost:8080/"
        },
        "id": "Llypwoxjka_T",
        "outputId": "356749ce-8608-49dc-eaa4-b62db42b6054"
      },
      "execution_count": null,
      "outputs": [
        {
          "output_type": "execute_result",
          "data": {
            "text/plain": [
              "(False, False, False, False, False, False, False, False, False, False)"
            ]
          },
          "metadata": {},
          "execution_count": 14
        }
      ]
    },
    {
      "cell_type": "code",
      "source": [
        "fpr_jaccard, tpr_jaccard, thresholds_jaccard = roc_curve(label_jaccard, score_jaccard)\n",
        "auc_jaccard = roc_auc_score(label_jaccard, score_jaccard)"
      ],
      "metadata": {
        "id": "6oYgwvjCkest"
      },
      "execution_count": null,
      "outputs": []
    },
    {
      "cell_type": "code",
      "source": [
        "plt.figure(figsize=(10, 6))\n",
        "plt.plot(fpr_jaccard, tpr_jaccard, label='Jaccard coefficient - AUC %.2f' % auc_jaccard, linewidth=4)\n",
        "plt.xlim([0.0, 1.0])\n",
        "plt.ylim([0.0, 1.0])\n",
        "plt.xlabel('False positive rate')\n",
        "plt.ylabel('True positive rate')\n",
        "plt.title(\"ROC AUC Curve\")\n",
        "plt.legend(loc='lower right')\n",
        "plt.show()"
      ],
      "metadata": {
        "colab": {
          "base_uri": "https://localhost:8080/",
          "height": 404
        },
        "id": "xal7awRxkkxQ",
        "outputId": "f1c51aba-e10b-4792-b981-ff6d27a3d870"
      },
      "execution_count": null,
      "outputs": [
        {
          "output_type": "display_data",
          "data": {
            "text/plain": [
              "<Figure size 720x432 with 1 Axes>"
            ],
            "image/png": "[encoded data removed]"
          },
          "metadata": {
            "needs_background": "light"
          }
        }
      ]
    },
    {
      "cell_type": "markdown",
      "source": [
        "Adamic Adar Similarity"
      ],
      "metadata": {
        "id": "G0eBUnBvk5Yj"
      }
    },
    {
      "cell_type": "code",
      "source": [
        "prediction_adamic = list(nx.adamic_adar_index(g_train))\n",
        "score_adamic, label_adamic = zip(*[(s, (u,v) in edge_subset) for (u,v,s) in prediction_adamic])"
      ],
      "metadata": {
        "id": "HWDztKNukt7d"
      },
      "execution_count": null,
      "outputs": []
    },
    {
      "cell_type": "code",
      "source": [
        "fpr_adamic, tpr_adamic, thresholds_adamic = roc_curve(label_adamic, score_adamic)\n",
        "auc_adamic = roc_auc_score(label_adamic, score_adamic)"
      ],
      "metadata": {
        "id": "a38mfRp2lGHa"
      },
      "execution_count": null,
      "outputs": []
    },
    {
      "cell_type": "markdown",
      "source": [
        "Pref Attachment method"
      ],
      "metadata": {
        "id": "_tto5fEmlI4K"
      }
    },
    {
      "cell_type": "code",
      "source": [
        "prediction_pref = list(nx.preferential_attachment(g_train))\n",
        "score_pref , label_pref = zip(*[(s, (u,v) in edge_subset) for (u,v,s) in prediction_pref])"
      ],
      "metadata": {
        "id": "14qrx0b2lMPI"
      },
      "execution_count": null,
      "outputs": []
    },
    {
      "cell_type": "code",
      "source": [
        "fpr_pref, tpr_pref, thresholds_pref = roc_curve(label_pref, score_pref)\n",
        "auc_pref = roc_auc_score(label_pref, score_pref)"
      ],
      "metadata": {
        "id": "d_vtwC9vlPDp"
      },
      "execution_count": null,
      "outputs": []
    },
    {
      "cell_type": "code",
      "source": [
        "plt.figure(figsize=(10, 6))\n",
        "plt.plot(fpr_jaccard, tpr_jaccard, label='Jaccard coefficient - AUC %.2f' % auc_jaccard, linewidth=4)\n",
        "plt.plot(fpr_adamic, tpr_adamic, label='Adamic-Adar - AUC %.2f' % auc_adamic, linewidth=4)\n",
        "plt.plot(fpr_pref, tpr_pref, label='Preferential attachment - AUC %.2f' % auc_pref, linewidth=4)\n",
        "plt.xlim([0.0, 1.0])\n",
        "plt.ylim([0.0, 1.0])\n",
        "plt.xlabel('False positive rate')\n",
        "plt.ylabel('True positive rate')\n",
        "plt.title(\"ROC AUC Curve\")\n",
        "plt.legend(loc='lower right')\n",
        "plt.show()"
      ],
      "metadata": {
        "colab": {
          "base_uri": "https://localhost:8080/",
          "height": 404
        },
        "id": "s8DmcWtdlR4s",
        "outputId": "fc9e9607-7b2f-46d8-cddd-7dcdd8240b4c"
      },
      "execution_count": null,
      "outputs": [
        {
          "output_type": "display_data",
          "data": {
            "text/plain": [
              "<Figure size 720x432 with 1 Axes>"
            ],
            "image/png": "[encoded data removed]"
          },
          "metadata": {
            "needs_background": "light"
          }
        }
      ]
    },
    {
      "cell_type": "code",
      "source": [
        "optimal_idx = np.argmax(tpr_pref - fpr_pref)\n",
        "optimal_threshold = thresholds_pref[optimal_idx]\n",
        "print(\"Optimal threshold =\", optimal_threshold)"
      ],
      "metadata": {
        "colab": {
          "base_uri": "https://localhost:8080/"
        },
        "id": "WNgTo6o-lYFm",
        "outputId": "04af0854-7615-43a9-b816-0a4d20e40195"
      },
      "execution_count": null,
      "outputs": [
        {
          "output_type": "stream",
          "name": "stdout",
          "text": [
            "Optimal threshold = 27528\n"
          ]
        }
      ]
    },
    {
      "cell_type": "markdown",
      "source": [
        "GNN"
      ],
      "metadata": {
        "id": "eC3OLeHTlw4Q"
      }
    },
    {
      "cell_type": "code",
      "source": [
        "# retrieve the labels for each node\n",
        "G1 = G.copy()\n",
        "nx.set_node_attributes(G1, degree_cent, \"degree_centrality\")\n",
        "nx.set_node_attributes(G1, pgr, \"pagerank_centrality\")\n",
        "nx.set_node_attributes(G1, bet, \"betweenness_centrality\")\n",
        "nx.set_node_attributes(G1, lclu, \"local_clustering_coeff\")\n",
        "\n",
        "# labels = G1.nodes(data=True)\n",
        "\n",
        "# create edge index from \n",
        "adj = nx.to_scipy_sparse_matrix(G1).tocoo()\n",
        "row = torch.from_numpy(adj.row.astype(np.int64)).to(torch.long)\n",
        "col = torch.from_numpy(adj.col.astype(np.int64)).to(torch.long)\n",
        "edge_index = torch.stack([row, col], dim=0)\n",
        "\n",
        "# using degree as embedding\n",
        "embeddings = np.array(list(dict(G1.degree()).values()))\n",
        "\n",
        "# normalizing degree values\n",
        "scale = StandardScaler()\n",
        "embeddings = scale.fit_transform(embeddings.reshape(-1,1))"
      ],
      "metadata": {
        "id": "Iot29yVFlwiN"
      },
      "execution_count": null,
      "outputs": []
    },
    {
      "cell_type": "code",
      "source": [
        "# Precompute probabilities and generate walks\n",
        "n2v = Node2Vec(G1, dimensions=16, walk_length=20, num_walks=100, workers=4)\n",
        "\n",
        "# Embed nodes\n",
        "n2v_model = n2v.fit(window=4, min_count=1, batch_words=4)"
      ],
      "metadata": {
        "colab": {
          "base_uri": "https://localhost:8080/",
          "height": 49,
          "referenced_widgets": [
            "794394c8d5854e83b1fd24e6b23d9b87",
            "ceb6db7aebde4fd194835e3c37d95f1d",
            "b12d9ae5d28644d8a147933c76225007",
            "7142ce0614a64cd79c51ca4eb7589e86",
            "bfe8e107755447a3a701e7ae6bc52569",
            "5d99dc75dbc64256b062720605a84290",
            "e6786b7e4a1f4c7fa8523d21d9fe95e7",
            "63877f3687784503a227e19c27c70081",
            "bc4e545b19ee4b68b06207b417ab478a",
            "e3614e3a779d4dbf9d707389ae1cf8b0",
            "9c93b1961bbd49f392f1d2d89f54702d"
          ]
        },
        "id": "xOqsbKlXl9CJ",
        "outputId": "3503fcef-8d43-401e-aecf-fdc5d1e75451"
      },
      "execution_count": null,
      "outputs": [
        {
          "output_type": "display_data",
          "data": {
            "text/plain": [
              "Computing transition probabilities:   0%|          | 0/200 [00:00<?, ?it/s]"
            ],
            "application/vnd.jupyter.widget-view+json": {
              "version_major": 2,
              "version_minor": 0,
              "model_id": "794394c8d5854e83b1fd24e6b23d9b87"
            }
          },
          "metadata": {}
        }
      ]
    },
    {
      "cell_type": "code",
      "source": [
        "index_map = np.zeros(len(G1.nodes()), dtype='int64')\n",
        "index_map = np.array(list(range(0,G1.number_of_nodes())))\n",
        "nodes = list(G1.nodes())\n",
        "index_map"
      ],
      "metadata": {
        "colab": {
          "base_uri": "https://localhost:8080/"
        },
        "id": "OxUDPfcGmDMJ",
        "outputId": "8a082a17-d23f-49e6-9162-27c37549894f"
      },
      "execution_count": null,
      "outputs": [
        {
          "output_type": "execute_result",
          "data": {
            "text/plain": [
              "array([  0,   1,   2,   3,   4,   5,   6,   7,   8,   9,  10,  11,  12,\n",
              "        13,  14,  15,  16,  17,  18,  19,  20,  21,  22,  23,  24,  25,\n",
              "        26,  27,  28,  29,  30,  31,  32,  33,  34,  35,  36,  37,  38,\n",
              "        39,  40,  41,  42,  43,  44,  45,  46,  47,  48,  49,  50,  51,\n",
              "        52,  53,  54,  55,  56,  57,  58,  59,  60,  61,  62,  63,  64,\n",
              "        65,  66,  67,  68,  69,  70,  71,  72,  73,  74,  75,  76,  77,\n",
              "        78,  79,  80,  81,  82,  83,  84,  85,  86,  87,  88,  89,  90,\n",
              "        91,  92,  93,  94,  95,  96,  97,  98,  99, 100, 101, 102, 103,\n",
              "       104, 105, 106, 107, 108, 109, 110, 111, 112, 113, 114, 115, 116,\n",
              "       117, 118, 119, 120, 121, 122, 123, 124, 125, 126, 127, 128, 129,\n",
              "       130, 131, 132, 133, 134, 135, 136, 137, 138, 139, 140, 141, 142,\n",
              "       143, 144, 145, 146, 147, 148, 149, 150, 151, 152, 153, 154, 155,\n",
              "       156, 157, 158, 159, 160, 161, 162, 163, 164, 165, 166, 167, 168,\n",
              "       169, 170, 171, 172, 173, 174, 175, 176, 177, 178, 179, 180, 181,\n",
              "       182, 183, 184, 185, 186, 187, 188, 189, 190, 191, 192, 193, 194,\n",
              "       195, 196, 197, 198, 199])"
            ]
          },
          "metadata": {},
          "execution_count": 25
        }
      ]
    },
    {
      "cell_type": "code",
      "source": [
        "node_embeddings = n2v_model.wv.vectors[index_map]"
      ],
      "metadata": {
        "id": "ybuuhMDcmH1s"
      },
      "execution_count": null,
      "outputs": []
    },
    {
      "cell_type": "code",
      "source": [
        "PG_G = from_networkx(G1)"
      ],
      "metadata": {
        "id": "fnAUlhpomJ1h"
      },
      "execution_count": null,
      "outputs": []
    },
    {
      "cell_type": "code",
      "source": [
        "PG_G"
      ],
      "metadata": {
        "colab": {
          "base_uri": "https://localhost:8080/"
        },
        "id": "p3yzkqIomMmZ",
        "outputId": "e81e95fc-5100-4ed6-dfaa-284c1968b5cd"
      },
      "execution_count": null,
      "outputs": [
        {
          "output_type": "execute_result",
          "data": {
            "text/plain": [
              "Data(edge_index=[2, 33304], degree_centrality=[200], pagerank_centrality=[200], betweenness_centrality=[200], local_clustering_coeff=[200], Weight=[33304], num_nodes=200)"
            ]
          },
          "metadata": {},
          "execution_count": 28
        }
      ]
    },
    {
      "cell_type": "code",
      "source": [
        "arr = np.array(PG_G.Weight)\n",
        "arr"
      ],
      "metadata": {
        "colab": {
          "base_uri": "https://localhost:8080/"
        },
        "id": "E7DzP3gToP4b",
        "outputId": "597d2ae8-1069-4c46-9def-1614625adf0f"
      },
      "execution_count": null,
      "outputs": [
        {
          "output_type": "execute_result",
          "data": {
            "text/plain": [
              "array([\"{'weight': 1.0}\", \"{'weight': 1.0}\", \"{'weight': 1.0}\", ...,\n",
              "       \"{'weight': 1.0}\", \"{'weight': 1.0}\", \"{'weight': 1.0}\"],\n",
              "      dtype='<U15')"
            ]
          },
          "metadata": {},
          "execution_count": 29
        }
      ]
    },
    {
      "cell_type": "code",
      "source": [
        "weight_arr = arr.reshape(-1,1)\n",
        "\n",
        "x = torch.tensor(node_embeddings)\n",
        "x = torch.cat((x, PG_G.degree_centrality.reshape(-1,1), PG_G.betweenness_centrality.reshape(-1,1), PG_G.pagerank_centrality.reshape(-1,1), PG_G.local_clustering_coeff.reshape(-1,1)), dim = 1)\n",
        "x.shape"
      ],
      "metadata": {
        "colab": {
          "base_uri": "https://localhost:8080/"
        },
        "id": "eHzrsZFomPDn",
        "outputId": "831c7747-ed15-4bc8-a147-1bffe4d0e4b0"
      },
      "execution_count": null,
      "outputs": [
        {
          "output_type": "execute_result",
          "data": {
            "text/plain": [
              "torch.Size([200, 20])"
            ]
          },
          "metadata": {},
          "execution_count": 30
        }
      ]
    },
    {
      "cell_type": "code",
      "source": [
        "# import tensorflow as tf\n",
        "# weight_arr = tf.convert_to_tensor(weight_arr, dtype=tf.float32)\n",
        "# # weight_arr.tolist()\n"
      ],
      "metadata": {
        "id": "hxcfTyUDo2YZ"
      },
      "execution_count": null,
      "outputs": []
    },
    {
      "cell_type": "code",
      "source": [
        "data = Data(x = x, edge_index = PG_G.edge_index, y = torch.ones(PG_G.num_edges)).to(device, non_blocking=True)\n",
        "data"
      ],
      "metadata": {
        "colab": {
          "base_uri": "https://localhost:8080/"
        },
        "id": "vkfiOHFAmRyc",
        "outputId": "8188bfa1-8199-4ed7-f28d-c9c2379b83b6"
      },
      "execution_count": null,
      "outputs": [
        {
          "output_type": "execute_result",
          "data": {
            "text/plain": [
              "Data(x=[200, 20], edge_index=[2, 33304], y=[33304])"
            ]
          },
          "metadata": {},
          "execution_count": 32
        }
      ]
    },
    {
      "cell_type": "code",
      "source": [
        "data_list = [PG_G]\n",
        "loader = DataLoader(data_list)"
      ],
      "metadata": {
        "id": "U3PPPH9imUhR"
      },
      "execution_count": null,
      "outputs": []
    },
    {
      "cell_type": "code",
      "source": [
        "import torch_geometric.transforms as T\n",
        "from torch_geometric.nn import GCNConv, SAGEConv, GATv2Conv\n",
        "import torch_geometric\n",
        "from torch_geometric.utils import negative_sampling\n",
        "import itertools\n",
        "import torch.nn.functional as F"
      ],
      "metadata": {
        "id": "OWQINEPSmVRu"
      },
      "execution_count": null,
      "outputs": []
    },
    {
      "cell_type": "code",
      "source": [
        "transform = T.Compose([\n",
        "    T.NormalizeFeatures(),\n",
        "    T.ToDevice(device),\n",
        "    T.RandomLinkSplit(num_val=0.05, num_test=0.1, is_undirected=True,\n",
        "                      add_negative_train_samples=False),])\n",
        "train_data, val_data, test_data = transform(data)"
      ],
      "metadata": {
        "id": "kGVU1XQOm_ZH"
      },
      "execution_count": null,
      "outputs": []
    },
    {
      "cell_type": "code",
      "source": [
        "class Predictor(torch.nn.Module):\n",
        "    def __init__(self, out_channels):\n",
        "        super().__init__()\n",
        "        self.W1 = torch.nn.Linear(out_channels *2, 64) \n",
        "        self.W2 = torch.nn.Linear(64, 1)\n",
        "    \n",
        "    def forward(self, node_feature1, node_feature2):\n",
        "\n",
        "        node_feature_cat = torch.cat((node_feature1, node_feature2), 1)\n",
        "        x = node_feature_cat\n",
        "\n",
        "        temp = F.relu(self.W1(x).squeeze(1))\n",
        "        temp = F.dropout(temp, p=0.5)\n",
        "        temp = self.W2(temp)\n",
        "        return temp.squeeze(1)"
      ],
      "metadata": {
        "id": "NdPcNYi5nBuz"
      },
      "execution_count": null,
      "outputs": []
    },
    {
      "cell_type": "code",
      "source": [
        "class GNNet(torch.nn.Module):\n",
        "    def __init__(self, Conv_layer, in_channels, hidden_channels, out_channels, aggr):\n",
        "        super().__init__()\n",
        "        self.conv1 = GCNConv(in_channels, hidden_channels, aggr=aggr)\n",
        "        self.conv2 = GCNConv(hidden_channels, out_channels, aggr=aggr)\n",
        "\n",
        "        self.pred = Predictor(out_channels)\n",
        "\n",
        "    def encode(self, x, edge_index, **kwargs):\n",
        "        x = self.conv1(x, edge_index, **kwargs).relu()\n",
        "        return self.conv2(x, edge_index, **kwargs)\n",
        "\n",
        "    def decode(self, z, edge_label_index):\n",
        "        return self.pred.forward(z[edge_label_index[0]], z[edge_label_index[1]])\n",
        "\n",
        "    def decode_all(self, z):\n",
        "        prob_adj = z @ z.t()\n",
        "        return (prob_adj > 0).nonzero(as_tuple=False).t()"
      ],
      "metadata": {
        "id": "0j6Nz6TUnDy_"
      },
      "execution_count": null,
      "outputs": []
    },
    {
      "cell_type": "code",
      "source": [
        "def train(model, optimizer):\n",
        "    model.train()\n",
        "    optimizer.zero_grad()\n",
        "    z = model.encode(train_data.x, train_data.edge_index)\n",
        "\n",
        "    # We perform a new round of negative sampling for every training epoch:\n",
        "    neg_edge_index = negative_sampling(\n",
        "        edge_index=train_data.edge_index, num_nodes=train_data.num_nodes,\n",
        "        num_neg_samples=train_data.edge_label_index.size(1), method='sparse')\n",
        "\n",
        "    edge_label_index = torch.cat([train_data.edge_label_index, neg_edge_index], dim=-1,)\n",
        "    edge_label = torch.cat([train_data.edge_label,train_data.edge_label.new_zeros(neg_edge_index.size(1))], dim=0)\n",
        "\n",
        "    out = model.decode(z, edge_label_index).view(-1)\n",
        "    loss = criterion(out, edge_label)\n",
        "    loss.backward()\n",
        "    optimizer.step()\n",
        "    return loss"
      ],
      "metadata": {
        "id": "SdgAiW_FnHLL"
      },
      "execution_count": null,
      "outputs": []
    },
    {
      "cell_type": "code",
      "source": [
        "@torch.no_grad()\n",
        "def test(data, model):\n",
        "    model.eval()\n",
        "    z = model.encode(data.x, data.edge_index)\n",
        "    out = model.decode(z, data.edge_label_index).view(-1).sigmoid()\n",
        "    return roc_auc_score(data.edge_label.cpu().numpy(), out.cpu().numpy())"
      ],
      "metadata": {
        "id": "RN2ogElqnK8F"
      },
      "execution_count": null,
      "outputs": []
    },
    {
      "cell_type": "markdown",
      "source": [
        "GCN(Graph Convolutional Networks)- It is a Propogation Model, more specifically a Spectral method."
      ],
      "metadata": {
        "id": "-wNY9QbHHJp0"
      }
    },
    {
      "cell_type": "code",
      "source": [
        "#Model for GCN\n",
        "model = GNNet(GCNConv, data.num_features, 64, 32, 'add').to(device)\n",
        "\n",
        "optimizer = torch.optim.Adam(params=itertools.chain(model.parameters(), model.pred.parameters()), lr=0.01)\n",
        "criterion = torch.nn.BCEWithLogitsLoss()"
      ],
      "metadata": {
        "id": "v70Q_CmVsEMC",
        "colab": {
          "base_uri": "https://localhost:8080/"
        },
        "outputId": "9ea6bc58-3882-4375-f7c7-69274ab1d076"
      },
      "execution_count": null,
      "outputs": [
        {
          "output_type": "stream",
          "name": "stderr",
          "text": [
            "/usr/local/lib/python3.7/dist-packages/torch/optim/adam.py:90: UserWarning: optimizer contains a parameter group with duplicate parameters; in future, this will cause an error; see github.com/pytorch/pytorch/issues/40967 for more information\n",
            "  super(Adam, self).__init__(params, defaults)\n"
          ]
        }
      ]
    },
    {
      "cell_type": "code",
      "source": [
        "best_val_auc = final_test_auc = 0\n",
        "for epoch in range(1, 301):\n",
        "    loss = train(model, optimizer)\n",
        "    val_auc = test(val_data, model)\n",
        "    test_auc = test(test_data, model)\n",
        "    if val_auc > best_val_auc:\n",
        "        best_val_auc = val_auc\n",
        "        final_test_auc = test_auc\n",
        "    print(f'Epoch: {epoch:03d}, Loss: {loss:.4f}, Val AUC: {val_auc:.4f}, '\n",
        "          f'Test AUC: {test_auc:.4f}')\n",
        "\n",
        "print(f'Final Test: {final_test_auc:.4f}')"
      ],
      "metadata": {
        "colab": {
          "base_uri": "https://localhost:8080/"
        },
        "id": "xwHXzGYpsGxC",
        "outputId": "74c70ba3-a333-48bb-8a8a-a56a9540934b"
      },
      "execution_count": null,
      "outputs": [
        {
          "output_type": "stream",
          "name": "stdout",
          "text": [
            "Epoch: 001, Loss: 0.6940, Val AUC: 0.5363, Test AUC: 0.5271\n",
            "Epoch: 002, Loss: 0.6876, Val AUC: 0.5661, Test AUC: 0.5459\n",
            "Epoch: 003, Loss: 0.6907, Val AUC: 0.5571, Test AUC: 0.5589\n",
            "Epoch: 004, Loss: 0.6872, Val AUC: 0.5258, Test AUC: 0.5251\n",
            "Epoch: 005, Loss: 0.6890, Val AUC: 0.5330, Test AUC: 0.5201\n",
            "Epoch: 006, Loss: 0.6895, Val AUC: 0.5230, Test AUC: 0.5295\n",
            "Epoch: 007, Loss: 0.6876, Val AUC: 0.5538, Test AUC: 0.5569\n",
            "Epoch: 008, Loss: 0.6863, Val AUC: 0.5805, Test AUC: 0.5628\n",
            "Epoch: 009, Loss: 0.6867, Val AUC: 0.5956, Test AUC: 0.5775\n",
            "Epoch: 010, Loss: 0.6871, Val AUC: 0.5716, Test AUC: 0.5826\n",
            "Epoch: 011, Loss: 0.6858, Val AUC: 0.5630, Test AUC: 0.5650\n",
            "Epoch: 012, Loss: 0.6855, Val AUC: 0.6215, Test AUC: 0.6053\n",
            "Epoch: 013, Loss: 0.6856, Val AUC: 0.6220, Test AUC: 0.6224\n",
            "Epoch: 014, Loss: 0.6850, Val AUC: 0.6571, Test AUC: 0.6359\n",
            "Epoch: 015, Loss: 0.6840, Val AUC: 0.6595, Test AUC: 0.6367\n",
            "Epoch: 016, Loss: 0.6827, Val AUC: 0.6440, Test AUC: 0.6465\n",
            "Epoch: 017, Loss: 0.6832, Val AUC: 0.6906, Test AUC: 0.6692\n",
            "Epoch: 018, Loss: 0.6810, Val AUC: 0.7187, Test AUC: 0.7138\n",
            "Epoch: 019, Loss: 0.6797, Val AUC: 0.7626, Test AUC: 0.7505\n",
            "Epoch: 020, Loss: 0.6785, Val AUC: 0.7279, Test AUC: 0.7414\n",
            "Epoch: 021, Loss: 0.6751, Val AUC: 0.7428, Test AUC: 0.7459\n",
            "Epoch: 022, Loss: 0.6751, Val AUC: 0.7944, Test AUC: 0.8012\n",
            "Epoch: 023, Loss: 0.6714, Val AUC: 0.8045, Test AUC: 0.8048\n",
            "Epoch: 024, Loss: 0.6683, Val AUC: 0.7484, Test AUC: 0.7659\n",
            "Epoch: 025, Loss: 0.6726, Val AUC: 0.8195, Test AUC: 0.8155\n",
            "Epoch: 026, Loss: 0.6625, Val AUC: 0.8407, Test AUC: 0.8431\n",
            "Epoch: 027, Loss: 0.6667, Val AUC: 0.7821, Test AUC: 0.7901\n",
            "Epoch: 028, Loss: 0.6656, Val AUC: 0.8007, Test AUC: 0.8207\n",
            "Epoch: 029, Loss: 0.6549, Val AUC: 0.8338, Test AUC: 0.8442\n",
            "Epoch: 030, Loss: 0.6686, Val AUC: 0.8140, Test AUC: 0.8263\n",
            "Epoch: 031, Loss: 0.6492, Val AUC: 0.8027, Test AUC: 0.8058\n",
            "Epoch: 032, Loss: 0.6626, Val AUC: 0.8294, Test AUC: 0.8397\n",
            "Epoch: 033, Loss: 0.6497, Val AUC: 0.8260, Test AUC: 0.8357\n",
            "Epoch: 034, Loss: 0.6511, Val AUC: 0.8124, Test AUC: 0.8178\n",
            "Epoch: 035, Loss: 0.6549, Val AUC: 0.8190, Test AUC: 0.8354\n",
            "Epoch: 036, Loss: 0.6411, Val AUC: 0.8126, Test AUC: 0.8189\n",
            "Epoch: 037, Loss: 0.6587, Val AUC: 0.8216, Test AUC: 0.8299\n",
            "Epoch: 038, Loss: 0.6343, Val AUC: 0.8149, Test AUC: 0.8135\n",
            "Epoch: 039, Loss: 0.6588, Val AUC: 0.8274, Test AUC: 0.8380\n",
            "Epoch: 040, Loss: 0.6280, Val AUC: 0.8194, Test AUC: 0.8167\n",
            "Epoch: 041, Loss: 0.6624, Val AUC: 0.8315, Test AUC: 0.8372\n",
            "Epoch: 042, Loss: 0.6302, Val AUC: 0.8194, Test AUC: 0.8291\n",
            "Epoch: 043, Loss: 0.6494, Val AUC: 0.8402, Test AUC: 0.8455\n",
            "Epoch: 044, Loss: 0.6310, Val AUC: 0.8306, Test AUC: 0.8420\n",
            "Epoch: 045, Loss: 0.6434, Val AUC: 0.8158, Test AUC: 0.8336\n",
            "Epoch: 046, Loss: 0.6312, Val AUC: 0.8229, Test AUC: 0.8266\n",
            "Epoch: 047, Loss: 0.6397, Val AUC: 0.8452, Test AUC: 0.8456\n",
            "Epoch: 048, Loss: 0.6199, Val AUC: 0.8452, Test AUC: 0.8543\n",
            "Epoch: 049, Loss: 0.6389, Val AUC: 0.8397, Test AUC: 0.8360\n",
            "Epoch: 050, Loss: 0.6228, Val AUC: 0.8171, Test AUC: 0.8244\n",
            "Epoch: 051, Loss: 0.6362, Val AUC: 0.8351, Test AUC: 0.8552\n",
            "Epoch: 052, Loss: 0.6140, Val AUC: 0.8456, Test AUC: 0.8479\n",
            "Epoch: 053, Loss: 0.6432, Val AUC: 0.8336, Test AUC: 0.8365\n",
            "Epoch: 054, Loss: 0.6164, Val AUC: 0.8124, Test AUC: 0.8261\n",
            "Epoch: 055, Loss: 0.6366, Val AUC: 0.8379, Test AUC: 0.8490\n",
            "Epoch: 056, Loss: 0.6082, Val AUC: 0.8460, Test AUC: 0.8576\n",
            "Epoch: 057, Loss: 0.6479, Val AUC: 0.8335, Test AUC: 0.8328\n",
            "Epoch: 058, Loss: 0.6149, Val AUC: 0.8183, Test AUC: 0.8263\n",
            "Epoch: 059, Loss: 0.6418, Val AUC: 0.8337, Test AUC: 0.8385\n",
            "Epoch: 060, Loss: 0.6158, Val AUC: 0.8497, Test AUC: 0.8622\n",
            "Epoch: 061, Loss: 0.6268, Val AUC: 0.8525, Test AUC: 0.8600\n",
            "Epoch: 062, Loss: 0.6248, Val AUC: 0.8389, Test AUC: 0.8389\n",
            "Epoch: 063, Loss: 0.6140, Val AUC: 0.8218, Test AUC: 0.8266\n",
            "Epoch: 064, Loss: 0.6277, Val AUC: 0.8356, Test AUC: 0.8369\n",
            "Epoch: 065, Loss: 0.6103, Val AUC: 0.8466, Test AUC: 0.8611\n",
            "Epoch: 066, Loss: 0.6184, Val AUC: 0.8476, Test AUC: 0.8608\n",
            "Epoch: 067, Loss: 0.6060, Val AUC: 0.8269, Test AUC: 0.8404\n",
            "Epoch: 068, Loss: 0.6114, Val AUC: 0.8293, Test AUC: 0.8392\n",
            "Epoch: 069, Loss: 0.6090, Val AUC: 0.8467, Test AUC: 0.8624\n",
            "Epoch: 070, Loss: 0.6085, Val AUC: 0.8516, Test AUC: 0.8580\n",
            "Epoch: 071, Loss: 0.5993, Val AUC: 0.8432, Test AUC: 0.8394\n",
            "Epoch: 072, Loss: 0.6069, Val AUC: 0.8389, Test AUC: 0.8482\n",
            "Epoch: 073, Loss: 0.6008, Val AUC: 0.8511, Test AUC: 0.8635\n",
            "Epoch: 074, Loss: 0.6123, Val AUC: 0.8415, Test AUC: 0.8462\n",
            "Epoch: 075, Loss: 0.6015, Val AUC: 0.8395, Test AUC: 0.8492\n",
            "Epoch: 076, Loss: 0.6095, Val AUC: 0.8420, Test AUC: 0.8580\n",
            "Epoch: 077, Loss: 0.5994, Val AUC: 0.8525, Test AUC: 0.8627\n",
            "Epoch: 078, Loss: 0.6098, Val AUC: 0.8332, Test AUC: 0.8507\n",
            "Epoch: 079, Loss: 0.6041, Val AUC: 0.8374, Test AUC: 0.8369\n",
            "Epoch: 080, Loss: 0.6098, Val AUC: 0.8502, Test AUC: 0.8551\n",
            "Epoch: 081, Loss: 0.5997, Val AUC: 0.8499, Test AUC: 0.8639\n",
            "Epoch: 082, Loss: 0.6100, Val AUC: 0.8441, Test AUC: 0.8502\n",
            "Epoch: 083, Loss: 0.5998, Val AUC: 0.8408, Test AUC: 0.8428\n",
            "Epoch: 084, Loss: 0.6089, Val AUC: 0.8505, Test AUC: 0.8551\n",
            "Epoch: 085, Loss: 0.5968, Val AUC: 0.8546, Test AUC: 0.8706\n",
            "Epoch: 086, Loss: 0.6093, Val AUC: 0.8435, Test AUC: 0.8559\n",
            "Epoch: 087, Loss: 0.5986, Val AUC: 0.8438, Test AUC: 0.8430\n",
            "Epoch: 088, Loss: 0.6083, Val AUC: 0.8507, Test AUC: 0.8559\n",
            "Epoch: 089, Loss: 0.5969, Val AUC: 0.8541, Test AUC: 0.8646\n",
            "Epoch: 090, Loss: 0.6086, Val AUC: 0.8439, Test AUC: 0.8552\n",
            "Epoch: 091, Loss: 0.5999, Val AUC: 0.8388, Test AUC: 0.8471\n",
            "Epoch: 092, Loss: 0.6072, Val AUC: 0.8492, Test AUC: 0.8633\n",
            "Epoch: 093, Loss: 0.5967, Val AUC: 0.8562, Test AUC: 0.8661\n",
            "Epoch: 094, Loss: 0.6076, Val AUC: 0.8492, Test AUC: 0.8558\n",
            "Epoch: 095, Loss: 0.5998, Val AUC: 0.8387, Test AUC: 0.8561\n",
            "Epoch: 096, Loss: 0.6078, Val AUC: 0.8542, Test AUC: 0.8593\n",
            "Epoch: 097, Loss: 0.5976, Val AUC: 0.8546, Test AUC: 0.8659\n",
            "Epoch: 098, Loss: 0.6074, Val AUC: 0.8495, Test AUC: 0.8554\n",
            "Epoch: 099, Loss: 0.5986, Val AUC: 0.8402, Test AUC: 0.8541\n",
            "Epoch: 100, Loss: 0.6056, Val AUC: 0.8566, Test AUC: 0.8646\n",
            "Epoch: 101, Loss: 0.5968, Val AUC: 0.8587, Test AUC: 0.8668\n",
            "Epoch: 102, Loss: 0.6056, Val AUC: 0.8468, Test AUC: 0.8586\n",
            "Epoch: 103, Loss: 0.5981, Val AUC: 0.8424, Test AUC: 0.8546\n",
            "Epoch: 104, Loss: 0.6050, Val AUC: 0.8532, Test AUC: 0.8640\n",
            "Epoch: 105, Loss: 0.5962, Val AUC: 0.8561, Test AUC: 0.8668\n",
            "Epoch: 106, Loss: 0.6049, Val AUC: 0.8498, Test AUC: 0.8573\n",
            "Epoch: 107, Loss: 0.5991, Val AUC: 0.8461, Test AUC: 0.8550\n",
            "Epoch: 108, Loss: 0.6026, Val AUC: 0.8518, Test AUC: 0.8645\n",
            "Epoch: 109, Loss: 0.5993, Val AUC: 0.8564, Test AUC: 0.8656\n",
            "Epoch: 110, Loss: 0.6006, Val AUC: 0.8504, Test AUC: 0.8589\n",
            "Epoch: 111, Loss: 0.5998, Val AUC: 0.8472, Test AUC: 0.8583\n",
            "Epoch: 112, Loss: 0.6010, Val AUC: 0.8535, Test AUC: 0.8665\n",
            "Epoch: 113, Loss: 0.5987, Val AUC: 0.8577, Test AUC: 0.8672\n",
            "Epoch: 114, Loss: 0.5986, Val AUC: 0.8569, Test AUC: 0.8530\n",
            "Epoch: 115, Loss: 0.6022, Val AUC: 0.8463, Test AUC: 0.8551\n",
            "Epoch: 116, Loss: 0.5975, Val AUC: 0.8592, Test AUC: 0.8647\n",
            "Epoch: 117, Loss: 0.6007, Val AUC: 0.8578, Test AUC: 0.8609\n",
            "Epoch: 118, Loss: 0.5948, Val AUC: 0.8526, Test AUC: 0.8553\n",
            "Epoch: 119, Loss: 0.5999, Val AUC: 0.8473, Test AUC: 0.8618\n",
            "Epoch: 120, Loss: 0.5955, Val AUC: 0.8577, Test AUC: 0.8667\n",
            "Epoch: 121, Loss: 0.6026, Val AUC: 0.8482, Test AUC: 0.8649\n",
            "Epoch: 122, Loss: 0.5938, Val AUC: 0.8433, Test AUC: 0.8615\n",
            "Epoch: 123, Loss: 0.6000, Val AUC: 0.8546, Test AUC: 0.8654\n",
            "Epoch: 124, Loss: 0.5955, Val AUC: 0.8599, Test AUC: 0.8664\n",
            "Epoch: 125, Loss: 0.5951, Val AUC: 0.8490, Test AUC: 0.8597\n",
            "Epoch: 126, Loss: 0.5988, Val AUC: 0.8525, Test AUC: 0.8577\n",
            "Epoch: 127, Loss: 0.5953, Val AUC: 0.8574, Test AUC: 0.8669\n",
            "Epoch: 128, Loss: 0.5995, Val AUC: 0.8535, Test AUC: 0.8616\n",
            "Epoch: 129, Loss: 0.5939, Val AUC: 0.8484, Test AUC: 0.8569\n",
            "Epoch: 130, Loss: 0.5968, Val AUC: 0.8536, Test AUC: 0.8684\n",
            "Epoch: 131, Loss: 0.5945, Val AUC: 0.8597, Test AUC: 0.8689\n",
            "Epoch: 132, Loss: 0.5966, Val AUC: 0.8500, Test AUC: 0.8596\n",
            "Epoch: 133, Loss: 0.5965, Val AUC: 0.8517, Test AUC: 0.8652\n",
            "Epoch: 134, Loss: 0.5924, Val AUC: 0.8529, Test AUC: 0.8661\n",
            "Epoch: 135, Loss: 0.5990, Val AUC: 0.8532, Test AUC: 0.8600\n",
            "Epoch: 136, Loss: 0.5920, Val AUC: 0.8518, Test AUC: 0.8597\n",
            "Epoch: 137, Loss: 0.5964, Val AUC: 0.8583, Test AUC: 0.8691\n",
            "Epoch: 138, Loss: 0.5965, Val AUC: 0.8560, Test AUC: 0.8596\n",
            "Epoch: 139, Loss: 0.5936, Val AUC: 0.8535, Test AUC: 0.8618\n",
            "Epoch: 140, Loss: 0.5971, Val AUC: 0.8554, Test AUC: 0.8654\n",
            "Epoch: 141, Loss: 0.5933, Val AUC: 0.8565, Test AUC: 0.8683\n",
            "Epoch: 142, Loss: 0.5944, Val AUC: 0.8493, Test AUC: 0.8589\n",
            "Epoch: 143, Loss: 0.5958, Val AUC: 0.8513, Test AUC: 0.8622\n",
            "Epoch: 144, Loss: 0.5930, Val AUC: 0.8562, Test AUC: 0.8652\n",
            "Epoch: 145, Loss: 0.5963, Val AUC: 0.8525, Test AUC: 0.8623\n",
            "Epoch: 146, Loss: 0.5925, Val AUC: 0.8474, Test AUC: 0.8618\n",
            "Epoch: 147, Loss: 0.5927, Val AUC: 0.8569, Test AUC: 0.8655\n",
            "Epoch: 148, Loss: 0.5955, Val AUC: 0.8551, Test AUC: 0.8629\n",
            "Epoch: 149, Loss: 0.5939, Val AUC: 0.8527, Test AUC: 0.8638\n",
            "Epoch: 150, Loss: 0.5942, Val AUC: 0.8525, Test AUC: 0.8674\n",
            "Epoch: 151, Loss: 0.5948, Val AUC: 0.8520, Test AUC: 0.8643\n",
            "Epoch: 152, Loss: 0.5912, Val AUC: 0.8511, Test AUC: 0.8633\n",
            "Epoch: 153, Loss: 0.5943, Val AUC: 0.8559, Test AUC: 0.8663\n",
            "Epoch: 154, Loss: 0.5926, Val AUC: 0.8558, Test AUC: 0.8642\n",
            "Epoch: 155, Loss: 0.5912, Val AUC: 0.8502, Test AUC: 0.8591\n",
            "Epoch: 156, Loss: 0.5936, Val AUC: 0.8567, Test AUC: 0.8703\n",
            "Epoch: 157, Loss: 0.5935, Val AUC: 0.8577, Test AUC: 0.8649\n",
            "Epoch: 158, Loss: 0.5932, Val AUC: 0.8535, Test AUC: 0.8607\n",
            "Epoch: 159, Loss: 0.5944, Val AUC: 0.8573, Test AUC: 0.8656\n",
            "Epoch: 160, Loss: 0.5914, Val AUC: 0.8541, Test AUC: 0.8643\n",
            "Epoch: 161, Loss: 0.5929, Val AUC: 0.8493, Test AUC: 0.8622\n",
            "Epoch: 162, Loss: 0.5924, Val AUC: 0.8568, Test AUC: 0.8670\n",
            "Epoch: 163, Loss: 0.5929, Val AUC: 0.8521, Test AUC: 0.8650\n",
            "Epoch: 164, Loss: 0.5901, Val AUC: 0.8522, Test AUC: 0.8639\n",
            "Epoch: 165, Loss: 0.5928, Val AUC: 0.8534, Test AUC: 0.8635\n",
            "Epoch: 166, Loss: 0.5939, Val AUC: 0.8529, Test AUC: 0.8646\n",
            "Epoch: 167, Loss: 0.5925, Val AUC: 0.8556, Test AUC: 0.8624\n",
            "Epoch: 168, Loss: 0.5923, Val AUC: 0.8544, Test AUC: 0.8650\n",
            "Epoch: 169, Loss: 0.5921, Val AUC: 0.8489, Test AUC: 0.8649\n",
            "Epoch: 170, Loss: 0.5925, Val AUC: 0.8542, Test AUC: 0.8640\n",
            "Epoch: 171, Loss: 0.5917, Val AUC: 0.8567, Test AUC: 0.8671\n",
            "Epoch: 172, Loss: 0.5923, Val AUC: 0.8510, Test AUC: 0.8647\n",
            "Epoch: 173, Loss: 0.5929, Val AUC: 0.8543, Test AUC: 0.8670\n",
            "Epoch: 174, Loss: 0.5919, Val AUC: 0.8535, Test AUC: 0.8641\n",
            "Epoch: 175, Loss: 0.5910, Val AUC: 0.8556, Test AUC: 0.8627\n",
            "Epoch: 176, Loss: 0.5925, Val AUC: 0.8511, Test AUC: 0.8661\n",
            "Epoch: 177, Loss: 0.5942, Val AUC: 0.8541, Test AUC: 0.8647\n",
            "Epoch: 178, Loss: 0.5908, Val AUC: 0.8551, Test AUC: 0.8639\n",
            "Epoch: 179, Loss: 0.5916, Val AUC: 0.8545, Test AUC: 0.8694\n",
            "Epoch: 180, Loss: 0.5938, Val AUC: 0.8517, Test AUC: 0.8604\n",
            "Epoch: 181, Loss: 0.5929, Val AUC: 0.8524, Test AUC: 0.8672\n",
            "Epoch: 182, Loss: 0.5922, Val AUC: 0.8537, Test AUC: 0.8670\n",
            "Epoch: 183, Loss: 0.5942, Val AUC: 0.8489, Test AUC: 0.8640\n",
            "Epoch: 184, Loss: 0.5922, Val AUC: 0.8558, Test AUC: 0.8680\n",
            "Epoch: 185, Loss: 0.5924, Val AUC: 0.8544, Test AUC: 0.8640\n",
            "Epoch: 186, Loss: 0.5916, Val AUC: 0.8494, Test AUC: 0.8612\n",
            "Epoch: 187, Loss: 0.5930, Val AUC: 0.8564, Test AUC: 0.8673\n",
            "Epoch: 188, Loss: 0.5933, Val AUC: 0.8535, Test AUC: 0.8615\n",
            "Epoch: 189, Loss: 0.5921, Val AUC: 0.8523, Test AUC: 0.8645\n",
            "Epoch: 190, Loss: 0.5926, Val AUC: 0.8541, Test AUC: 0.8661\n",
            "Epoch: 191, Loss: 0.5928, Val AUC: 0.8502, Test AUC: 0.8637\n",
            "Epoch: 192, Loss: 0.5928, Val AUC: 0.8505, Test AUC: 0.8668\n",
            "Epoch: 193, Loss: 0.5906, Val AUC: 0.8563, Test AUC: 0.8664\n",
            "Epoch: 194, Loss: 0.5923, Val AUC: 0.8540, Test AUC: 0.8616\n",
            "Epoch: 195, Loss: 0.5925, Val AUC: 0.8556, Test AUC: 0.8667\n",
            "Epoch: 196, Loss: 0.5920, Val AUC: 0.8554, Test AUC: 0.8674\n",
            "Epoch: 197, Loss: 0.5914, Val AUC: 0.8520, Test AUC: 0.8653\n",
            "Epoch: 198, Loss: 0.5923, Val AUC: 0.8542, Test AUC: 0.8679\n",
            "Epoch: 199, Loss: 0.5930, Val AUC: 0.8544, Test AUC: 0.8665\n",
            "Epoch: 200, Loss: 0.5909, Val AUC: 0.8529, Test AUC: 0.8660\n",
            "Epoch: 201, Loss: 0.5914, Val AUC: 0.8519, Test AUC: 0.8677\n",
            "Epoch: 202, Loss: 0.5918, Val AUC: 0.8557, Test AUC: 0.8632\n",
            "Epoch: 203, Loss: 0.5924, Val AUC: 0.8530, Test AUC: 0.8668\n",
            "Epoch: 204, Loss: 0.5923, Val AUC: 0.8588, Test AUC: 0.8645\n",
            "Epoch: 205, Loss: 0.5909, Val AUC: 0.8545, Test AUC: 0.8632\n",
            "Epoch: 206, Loss: 0.5913, Val AUC: 0.8568, Test AUC: 0.8649\n",
            "Epoch: 207, Loss: 0.5911, Val AUC: 0.8533, Test AUC: 0.8657\n",
            "Epoch: 208, Loss: 0.5922, Val AUC: 0.8534, Test AUC: 0.8654\n",
            "Epoch: 209, Loss: 0.5915, Val AUC: 0.8557, Test AUC: 0.8694\n",
            "Epoch: 210, Loss: 0.5913, Val AUC: 0.8534, Test AUC: 0.8655\n",
            "Epoch: 211, Loss: 0.5926, Val AUC: 0.8583, Test AUC: 0.8653\n",
            "Epoch: 212, Loss: 0.5920, Val AUC: 0.8538, Test AUC: 0.8609\n",
            "Epoch: 213, Loss: 0.5905, Val AUC: 0.8551, Test AUC: 0.8635\n",
            "Epoch: 214, Loss: 0.5912, Val AUC: 0.8532, Test AUC: 0.8648\n",
            "Epoch: 215, Loss: 0.5906, Val AUC: 0.8526, Test AUC: 0.8624\n",
            "Epoch: 216, Loss: 0.5910, Val AUC: 0.8564, Test AUC: 0.8683\n",
            "Epoch: 217, Loss: 0.5930, Val AUC: 0.8553, Test AUC: 0.8627\n",
            "Epoch: 218, Loss: 0.5921, Val AUC: 0.8513, Test AUC: 0.8650\n",
            "Epoch: 219, Loss: 0.5915, Val AUC: 0.8543, Test AUC: 0.8635\n",
            "Epoch: 220, Loss: 0.5919, Val AUC: 0.8536, Test AUC: 0.8660\n",
            "Epoch: 221, Loss: 0.5920, Val AUC: 0.8545, Test AUC: 0.8656\n",
            "Epoch: 222, Loss: 0.5928, Val AUC: 0.8537, Test AUC: 0.8660\n",
            "Epoch: 223, Loss: 0.5911, Val AUC: 0.8526, Test AUC: 0.8665\n",
            "Epoch: 224, Loss: 0.5910, Val AUC: 0.8508, Test AUC: 0.8650\n",
            "Epoch: 225, Loss: 0.5917, Val AUC: 0.8507, Test AUC: 0.8639\n",
            "Epoch: 226, Loss: 0.5913, Val AUC: 0.8528, Test AUC: 0.8638\n",
            "Epoch: 227, Loss: 0.5928, Val AUC: 0.8536, Test AUC: 0.8636\n",
            "Epoch: 228, Loss: 0.5910, Val AUC: 0.8488, Test AUC: 0.8646\n",
            "Epoch: 229, Loss: 0.5921, Val AUC: 0.8527, Test AUC: 0.8676\n",
            "Epoch: 230, Loss: 0.5920, Val AUC: 0.8526, Test AUC: 0.8639\n",
            "Epoch: 231, Loss: 0.5906, Val AUC: 0.8550, Test AUC: 0.8664\n",
            "Epoch: 232, Loss: 0.5906, Val AUC: 0.8546, Test AUC: 0.8641\n",
            "Epoch: 233, Loss: 0.5913, Val AUC: 0.8548, Test AUC: 0.8655\n",
            "Epoch: 234, Loss: 0.5900, Val AUC: 0.8541, Test AUC: 0.8641\n",
            "Epoch: 235, Loss: 0.5901, Val AUC: 0.8540, Test AUC: 0.8660\n",
            "Epoch: 236, Loss: 0.5914, Val AUC: 0.8545, Test AUC: 0.8633\n",
            "Epoch: 237, Loss: 0.5917, Val AUC: 0.8547, Test AUC: 0.8626\n",
            "Epoch: 238, Loss: 0.5899, Val AUC: 0.8542, Test AUC: 0.8673\n",
            "Epoch: 239, Loss: 0.5909, Val AUC: 0.8520, Test AUC: 0.8650\n",
            "Epoch: 240, Loss: 0.5914, Val AUC: 0.8526, Test AUC: 0.8660\n",
            "Epoch: 241, Loss: 0.5906, Val AUC: 0.8555, Test AUC: 0.8656\n",
            "Epoch: 242, Loss: 0.5906, Val AUC: 0.8565, Test AUC: 0.8651\n",
            "Epoch: 243, Loss: 0.5907, Val AUC: 0.8498, Test AUC: 0.8598\n",
            "Epoch: 244, Loss: 0.5926, Val AUC: 0.8581, Test AUC: 0.8685\n",
            "Epoch: 245, Loss: 0.5941, Val AUC: 0.8494, Test AUC: 0.8620\n",
            "Epoch: 246, Loss: 0.5938, Val AUC: 0.8597, Test AUC: 0.8702\n",
            "Epoch: 247, Loss: 0.5951, Val AUC: 0.8539, Test AUC: 0.8634\n",
            "Epoch: 248, Loss: 0.5928, Val AUC: 0.8570, Test AUC: 0.8672\n",
            "Epoch: 249, Loss: 0.5913, Val AUC: 0.8538, Test AUC: 0.8683\n",
            "Epoch: 250, Loss: 0.5915, Val AUC: 0.8493, Test AUC: 0.8627\n",
            "Epoch: 251, Loss: 0.5946, Val AUC: 0.8555, Test AUC: 0.8699\n",
            "Epoch: 252, Loss: 0.5966, Val AUC: 0.8509, Test AUC: 0.8594\n",
            "Epoch: 253, Loss: 0.5961, Val AUC: 0.8552, Test AUC: 0.8669\n",
            "Epoch: 254, Loss: 0.5914, Val AUC: 0.8535, Test AUC: 0.8670\n",
            "Epoch: 255, Loss: 0.5913, Val AUC: 0.8510, Test AUC: 0.8611\n",
            "Epoch: 256, Loss: 0.5948, Val AUC: 0.8570, Test AUC: 0.8661\n",
            "Epoch: 257, Loss: 0.5949, Val AUC: 0.8493, Test AUC: 0.8633\n",
            "Epoch: 258, Loss: 0.5913, Val AUC: 0.8536, Test AUC: 0.8633\n",
            "Epoch: 259, Loss: 0.5906, Val AUC: 0.8520, Test AUC: 0.8663\n",
            "Epoch: 260, Loss: 0.5928, Val AUC: 0.8498, Test AUC: 0.8627\n",
            "Epoch: 261, Loss: 0.5952, Val AUC: 0.8600, Test AUC: 0.8693\n",
            "Epoch: 262, Loss: 0.5940, Val AUC: 0.8510, Test AUC: 0.8627\n",
            "Epoch: 263, Loss: 0.5940, Val AUC: 0.8569, Test AUC: 0.8638\n",
            "Epoch: 264, Loss: 0.5920, Val AUC: 0.8527, Test AUC: 0.8653\n",
            "Epoch: 265, Loss: 0.5912, Val AUC: 0.8498, Test AUC: 0.8615\n",
            "Epoch: 266, Loss: 0.5941, Val AUC: 0.8612, Test AUC: 0.8676\n",
            "Epoch: 267, Loss: 0.5949, Val AUC: 0.8522, Test AUC: 0.8637\n",
            "Epoch: 268, Loss: 0.5948, Val AUC: 0.8586, Test AUC: 0.8676\n",
            "Epoch: 269, Loss: 0.5925, Val AUC: 0.8520, Test AUC: 0.8663\n",
            "Epoch: 270, Loss: 0.5915, Val AUC: 0.8534, Test AUC: 0.8605\n",
            "Epoch: 271, Loss: 0.5920, Val AUC: 0.8555, Test AUC: 0.8657\n",
            "Epoch: 272, Loss: 0.5940, Val AUC: 0.8520, Test AUC: 0.8598\n",
            "Epoch: 273, Loss: 0.5949, Val AUC: 0.8590, Test AUC: 0.8658\n",
            "Epoch: 274, Loss: 0.5917, Val AUC: 0.8552, Test AUC: 0.8659\n",
            "Epoch: 275, Loss: 0.5906, Val AUC: 0.8524, Test AUC: 0.8623\n",
            "Epoch: 276, Loss: 0.5917, Val AUC: 0.8510, Test AUC: 0.8670\n",
            "Epoch: 277, Loss: 0.5951, Val AUC: 0.8512, Test AUC: 0.8574\n",
            "Epoch: 278, Loss: 0.5945, Val AUC: 0.8582, Test AUC: 0.8705\n",
            "Epoch: 279, Loss: 0.5935, Val AUC: 0.8538, Test AUC: 0.8644\n",
            "Epoch: 280, Loss: 0.5909, Val AUC: 0.8586, Test AUC: 0.8649\n",
            "Epoch: 281, Loss: 0.5915, Val AUC: 0.8545, Test AUC: 0.8647\n",
            "Epoch: 282, Loss: 0.5922, Val AUC: 0.8528, Test AUC: 0.8636\n",
            "Epoch: 283, Loss: 0.5916, Val AUC: 0.8568, Test AUC: 0.8667\n",
            "Epoch: 284, Loss: 0.5905, Val AUC: 0.8516, Test AUC: 0.8640\n",
            "Epoch: 285, Loss: 0.5920, Val AUC: 0.8541, Test AUC: 0.8687\n",
            "Epoch: 286, Loss: 0.5905, Val AUC: 0.8503, Test AUC: 0.8654\n",
            "Epoch: 287, Loss: 0.5900, Val AUC: 0.8530, Test AUC: 0.8637\n",
            "Epoch: 288, Loss: 0.5903, Val AUC: 0.8518, Test AUC: 0.8670\n",
            "Epoch: 289, Loss: 0.5920, Val AUC: 0.8512, Test AUC: 0.8627\n",
            "Epoch: 290, Loss: 0.5952, Val AUC: 0.8600, Test AUC: 0.8682\n",
            "Epoch: 291, Loss: 0.5960, Val AUC: 0.8482, Test AUC: 0.8574\n",
            "Epoch: 292, Loss: 0.5939, Val AUC: 0.8559, Test AUC: 0.8681\n",
            "Epoch: 293, Loss: 0.5922, Val AUC: 0.8573, Test AUC: 0.8683\n",
            "Epoch: 294, Loss: 0.5923, Val AUC: 0.8540, Test AUC: 0.8585\n",
            "Epoch: 295, Loss: 0.5950, Val AUC: 0.8597, Test AUC: 0.8706\n",
            "Epoch: 296, Loss: 0.5945, Val AUC: 0.8516, Test AUC: 0.8622\n",
            "Epoch: 297, Loss: 0.5945, Val AUC: 0.8557, Test AUC: 0.8681\n",
            "Epoch: 298, Loss: 0.5910, Val AUC: 0.8537, Test AUC: 0.8648\n",
            "Epoch: 299, Loss: 0.5903, Val AUC: 0.8539, Test AUC: 0.8585\n",
            "Epoch: 300, Loss: 0.5934, Val AUC: 0.8582, Test AUC: 0.8692\n",
            "Final Test: 0.8676\n"
          ]
        }
      ]
    },
    {
      "cell_type": "markdown",
      "source": [
        "GraphSage"
      ],
      "metadata": {
        "id": "IKUU_7R5s6WT"
      }
    },
    {
      "cell_type": "code",
      "source": [
        "model_sage = GNNet(SAGEConv, data.num_features, 64, 16, 'add').to(device)\n",
        "optimizer_sage = torch.optim.Adam(params=itertools.chain(model_sage.parameters(), model_sage.pred.parameters()), lr=0.01)\n",
        "criterion_sage = torch.nn.BCEWithLogitsLoss()"
      ],
      "metadata": {
        "colab": {
          "base_uri": "https://localhost:8080/"
        },
        "id": "8Pf31z60s8Xs",
        "outputId": "e041108c-70ff-4d27-ee8d-e35fe1774366"
      },
      "execution_count": null,
      "outputs": [
        {
          "output_type": "stream",
          "name": "stderr",
          "text": [
            "/usr/local/lib/python3.7/dist-packages/torch/optim/adam.py:90: UserWarning: optimizer contains a parameter group with duplicate parameters; in future, this will cause an error; see github.com/pytorch/pytorch/issues/40967 for more information\n",
            "  super(Adam, self).__init__(params, defaults)\n"
          ]
        }
      ]
    },
    {
      "cell_type": "code",
      "source": [
        "best_val_auc = final_test_auc = 0\n",
        "for epoch in range(1, 301):\n",
        "    loss = train(model_sage, optimizer)\n",
        "    val_auc = test(val_data, model)\n",
        "    test_auc = test(test_data, model)\n",
        "    if val_auc > best_val_auc:\n",
        "        best_val_auc = val_auc\n",
        "        final_test_auc = test_auc\n",
        "    print(f'Epoch: {epoch:03d}, Loss: {loss:.4f}, Val AUC: {val_auc:.4f}, '\n",
        "          f'Test AUC: {test_auc:.4f}')\n",
        "\n",
        "print(f'Final Test: {final_test_auc:.4f}')"
      ],
      "metadata": {
        "colab": {
          "base_uri": "https://localhost:8080/"
        },
        "id": "17j_TkcitAOE",
        "outputId": "5891f9b4-090f-49c6-eb70-e06970486d88"
      },
      "execution_count": null,
      "outputs": [
        {
          "output_type": "stream",
          "name": "stdout",
          "text": [
            "Epoch: 001, Loss: 0.6985, Val AUC: 0.8673, Test AUC: 0.8655\n",
            "Epoch: 002, Loss: 0.6985, Val AUC: 0.8624, Test AUC: 0.8572\n",
            "Epoch: 003, Loss: 0.6986, Val AUC: 0.8548, Test AUC: 0.8449\n",
            "Epoch: 004, Loss: 0.6986, Val AUC: 0.8529, Test AUC: 0.8440\n",
            "Epoch: 005, Loss: 0.6985, Val AUC: 0.8430, Test AUC: 0.8333\n",
            "Epoch: 006, Loss: 0.6984, Val AUC: 0.8352, Test AUC: 0.8275\n",
            "Epoch: 007, Loss: 0.6984, Val AUC: 0.8176, Test AUC: 0.8168\n",
            "Epoch: 008, Loss: 0.6984, Val AUC: 0.8232, Test AUC: 0.8230\n",
            "Epoch: 009, Loss: 0.6985, Val AUC: 0.8153, Test AUC: 0.8128\n",
            "Epoch: 010, Loss: 0.6982, Val AUC: 0.8006, Test AUC: 0.8113\n",
            "Epoch: 011, Loss: 0.6985, Val AUC: 0.7933, Test AUC: 0.8029\n",
            "Epoch: 012, Loss: 0.6984, Val AUC: 0.8036, Test AUC: 0.7951\n",
            "Epoch: 013, Loss: 0.6983, Val AUC: 0.8113, Test AUC: 0.7887\n",
            "Epoch: 014, Loss: 0.6985, Val AUC: 0.7918, Test AUC: 0.7915\n",
            "Epoch: 015, Loss: 0.6986, Val AUC: 0.7847, Test AUC: 0.7869\n",
            "Epoch: 016, Loss: 0.6985, Val AUC: 0.7800, Test AUC: 0.7806\n",
            "Epoch: 017, Loss: 0.6985, Val AUC: 0.7832, Test AUC: 0.7689\n",
            "Epoch: 018, Loss: 0.6985, Val AUC: 0.7829, Test AUC: 0.7770\n",
            "Epoch: 019, Loss: 0.6985, Val AUC: 0.7700, Test AUC: 0.7778\n",
            "Epoch: 020, Loss: 0.6985, Val AUC: 0.7717, Test AUC: 0.7710\n",
            "Epoch: 021, Loss: 0.6984, Val AUC: 0.7731, Test AUC: 0.7715\n",
            "Epoch: 022, Loss: 0.6984, Val AUC: 0.7676, Test AUC: 0.7737\n",
            "Epoch: 023, Loss: 0.6984, Val AUC: 0.7710, Test AUC: 0.7740\n",
            "Epoch: 024, Loss: 0.6984, Val AUC: 0.7699, Test AUC: 0.7634\n",
            "Epoch: 025, Loss: 0.6984, Val AUC: 0.7739, Test AUC: 0.7723\n",
            "Epoch: 026, Loss: 0.6986, Val AUC: 0.7572, Test AUC: 0.7701\n",
            "Epoch: 027, Loss: 0.6984, Val AUC: 0.7567, Test AUC: 0.7554\n",
            "Epoch: 028, Loss: 0.6984, Val AUC: 0.7648, Test AUC: 0.7640\n",
            "Epoch: 029, Loss: 0.6986, Val AUC: 0.7718, Test AUC: 0.7672\n",
            "Epoch: 030, Loss: 0.6985, Val AUC: 0.7563, Test AUC: 0.7559\n",
            "Epoch: 031, Loss: 0.6985, Val AUC: 0.7703, Test AUC: 0.7489\n",
            "Epoch: 032, Loss: 0.6983, Val AUC: 0.7554, Test AUC: 0.7600\n",
            "Epoch: 033, Loss: 0.6983, Val AUC: 0.7699, Test AUC: 0.7603\n",
            "Epoch: 034, Loss: 0.6984, Val AUC: 0.7646, Test AUC: 0.7507\n",
            "Epoch: 035, Loss: 0.6985, Val AUC: 0.7571, Test AUC: 0.7643\n",
            "Epoch: 036, Loss: 0.6985, Val AUC: 0.7532, Test AUC: 0.7605\n",
            "Epoch: 037, Loss: 0.6983, Val AUC: 0.7771, Test AUC: 0.7521\n",
            "Epoch: 038, Loss: 0.6985, Val AUC: 0.7581, Test AUC: 0.7502\n",
            "Epoch: 039, Loss: 0.6983, Val AUC: 0.7570, Test AUC: 0.7545\n",
            "Epoch: 040, Loss: 0.6985, Val AUC: 0.7626, Test AUC: 0.7472\n",
            "Epoch: 041, Loss: 0.6983, Val AUC: 0.7506, Test AUC: 0.7556\n",
            "Epoch: 042, Loss: 0.6985, Val AUC: 0.7615, Test AUC: 0.7571\n",
            "Epoch: 043, Loss: 0.6985, Val AUC: 0.7387, Test AUC: 0.7600\n",
            "Epoch: 044, Loss: 0.6985, Val AUC: 0.7587, Test AUC: 0.7406\n",
            "Epoch: 045, Loss: 0.6983, Val AUC: 0.7567, Test AUC: 0.7457\n",
            "Epoch: 046, Loss: 0.6983, Val AUC: 0.7496, Test AUC: 0.7576\n",
            "Epoch: 047, Loss: 0.6985, Val AUC: 0.7489, Test AUC: 0.7532\n",
            "Epoch: 048, Loss: 0.6984, Val AUC: 0.7735, Test AUC: 0.7525\n",
            "Epoch: 049, Loss: 0.6983, Val AUC: 0.7588, Test AUC: 0.7540\n",
            "Epoch: 050, Loss: 0.6984, Val AUC: 0.7548, Test AUC: 0.7431\n",
            "Epoch: 051, Loss: 0.6984, Val AUC: 0.7654, Test AUC: 0.7454\n",
            "Epoch: 052, Loss: 0.6985, Val AUC: 0.7568, Test AUC: 0.7585\n",
            "Epoch: 053, Loss: 0.6982, Val AUC: 0.7551, Test AUC: 0.7520\n",
            "Epoch: 054, Loss: 0.6984, Val AUC: 0.7652, Test AUC: 0.7492\n",
            "Epoch: 055, Loss: 0.6985, Val AUC: 0.7483, Test AUC: 0.7403\n",
            "Epoch: 056, Loss: 0.6985, Val AUC: 0.7486, Test AUC: 0.7630\n",
            "Epoch: 057, Loss: 0.6984, Val AUC: 0.7660, Test AUC: 0.7562\n",
            "Epoch: 058, Loss: 0.6987, Val AUC: 0.7588, Test AUC: 0.7423\n",
            "Epoch: 059, Loss: 0.6985, Val AUC: 0.7530, Test AUC: 0.7468\n",
            "Epoch: 060, Loss: 0.6984, Val AUC: 0.7502, Test AUC: 0.7482\n",
            "Epoch: 061, Loss: 0.6984, Val AUC: 0.7718, Test AUC: 0.7449\n",
            "Epoch: 062, Loss: 0.6986, Val AUC: 0.7502, Test AUC: 0.7653\n",
            "Epoch: 063, Loss: 0.6984, Val AUC: 0.7512, Test AUC: 0.7607\n",
            "Epoch: 064, Loss: 0.6985, Val AUC: 0.7663, Test AUC: 0.7608\n",
            "Epoch: 065, Loss: 0.6984, Val AUC: 0.7516, Test AUC: 0.7571\n",
            "Epoch: 066, Loss: 0.6985, Val AUC: 0.7406, Test AUC: 0.7336\n",
            "Epoch: 067, Loss: 0.6983, Val AUC: 0.7431, Test AUC: 0.7524\n",
            "Epoch: 068, Loss: 0.6984, Val AUC: 0.7554, Test AUC: 0.7556\n",
            "Epoch: 069, Loss: 0.6985, Val AUC: 0.7582, Test AUC: 0.7605\n",
            "Epoch: 070, Loss: 0.6984, Val AUC: 0.7422, Test AUC: 0.7561\n",
            "Epoch: 071, Loss: 0.6984, Val AUC: 0.7661, Test AUC: 0.7546\n",
            "Epoch: 072, Loss: 0.6985, Val AUC: 0.7538, Test AUC: 0.7447\n",
            "Epoch: 073, Loss: 0.6985, Val AUC: 0.7734, Test AUC: 0.7546\n",
            "Epoch: 074, Loss: 0.6985, Val AUC: 0.7628, Test AUC: 0.7570\n",
            "Epoch: 075, Loss: 0.6983, Val AUC: 0.7644, Test AUC: 0.7630\n",
            "Epoch: 076, Loss: 0.6986, Val AUC: 0.7624, Test AUC: 0.7514\n",
            "Epoch: 077, Loss: 0.6985, Val AUC: 0.7521, Test AUC: 0.7573\n",
            "Epoch: 078, Loss: 0.6986, Val AUC: 0.7431, Test AUC: 0.7554\n",
            "Epoch: 079, Loss: 0.6982, Val AUC: 0.7536, Test AUC: 0.7455\n",
            "Epoch: 080, Loss: 0.6985, Val AUC: 0.7711, Test AUC: 0.7508\n",
            "Epoch: 081, Loss: 0.6985, Val AUC: 0.7547, Test AUC: 0.7427\n",
            "Epoch: 082, Loss: 0.6984, Val AUC: 0.7662, Test AUC: 0.7485\n",
            "Epoch: 083, Loss: 0.6985, Val AUC: 0.7409, Test AUC: 0.7577\n",
            "Epoch: 084, Loss: 0.6984, Val AUC: 0.7514, Test AUC: 0.7580\n",
            "Epoch: 085, Loss: 0.6984, Val AUC: 0.7607, Test AUC: 0.7428\n",
            "Epoch: 086, Loss: 0.6984, Val AUC: 0.7542, Test AUC: 0.7594\n",
            "Epoch: 087, Loss: 0.6983, Val AUC: 0.7549, Test AUC: 0.7493\n",
            "Epoch: 088, Loss: 0.6985, Val AUC: 0.7564, Test AUC: 0.7620\n",
            "Epoch: 089, Loss: 0.6985, Val AUC: 0.7602, Test AUC: 0.7432\n",
            "Epoch: 090, Loss: 0.6986, Val AUC: 0.7565, Test AUC: 0.7404\n",
            "Epoch: 091, Loss: 0.6985, Val AUC: 0.7631, Test AUC: 0.7458\n",
            "Epoch: 092, Loss: 0.6983, Val AUC: 0.7607, Test AUC: 0.7536\n",
            "Epoch: 093, Loss: 0.6984, Val AUC: 0.7490, Test AUC: 0.7560\n",
            "Epoch: 094, Loss: 0.6984, Val AUC: 0.7690, Test AUC: 0.7437\n",
            "Epoch: 095, Loss: 0.6985, Val AUC: 0.7749, Test AUC: 0.7470\n",
            "Epoch: 096, Loss: 0.6985, Val AUC: 0.7631, Test AUC: 0.7502\n",
            "Epoch: 097, Loss: 0.6984, Val AUC: 0.7574, Test AUC: 0.7482\n",
            "Epoch: 098, Loss: 0.6983, Val AUC: 0.7565, Test AUC: 0.7477\n",
            "Epoch: 099, Loss: 0.6983, Val AUC: 0.7496, Test AUC: 0.7595\n",
            "Epoch: 100, Loss: 0.6985, Val AUC: 0.7598, Test AUC: 0.7545\n",
            "Epoch: 101, Loss: 0.6985, Val AUC: 0.7621, Test AUC: 0.7478\n",
            "Epoch: 102, Loss: 0.6985, Val AUC: 0.7587, Test AUC: 0.7470\n",
            "Epoch: 103, Loss: 0.6984, Val AUC: 0.7524, Test AUC: 0.7612\n",
            "Epoch: 104, Loss: 0.6985, Val AUC: 0.7540, Test AUC: 0.7577\n",
            "Epoch: 105, Loss: 0.6986, Val AUC: 0.7493, Test AUC: 0.7511\n",
            "Epoch: 106, Loss: 0.6984, Val AUC: 0.7566, Test AUC: 0.7511\n",
            "Epoch: 107, Loss: 0.6985, Val AUC: 0.7570, Test AUC: 0.7525\n",
            "Epoch: 108, Loss: 0.6985, Val AUC: 0.7490, Test AUC: 0.7516\n",
            "Epoch: 109, Loss: 0.6985, Val AUC: 0.7663, Test AUC: 0.7536\n",
            "Epoch: 110, Loss: 0.6984, Val AUC: 0.7646, Test AUC: 0.7412\n",
            "Epoch: 111, Loss: 0.6983, Val AUC: 0.7571, Test AUC: 0.7505\n",
            "Epoch: 112, Loss: 0.6984, Val AUC: 0.7353, Test AUC: 0.7439\n",
            "Epoch: 113, Loss: 0.6983, Val AUC: 0.7478, Test AUC: 0.7537\n",
            "Epoch: 114, Loss: 0.6984, Val AUC: 0.7581, Test AUC: 0.7494\n",
            "Epoch: 115, Loss: 0.6985, Val AUC: 0.7512, Test AUC: 0.7431\n",
            "Epoch: 116, Loss: 0.6983, Val AUC: 0.7496, Test AUC: 0.7484\n",
            "Epoch: 117, Loss: 0.6984, Val AUC: 0.7451, Test AUC: 0.7514\n",
            "Epoch: 118, Loss: 0.6985, Val AUC: 0.7460, Test AUC: 0.7567\n",
            "Epoch: 119, Loss: 0.6983, Val AUC: 0.7511, Test AUC: 0.7529\n",
            "Epoch: 120, Loss: 0.6986, Val AUC: 0.7511, Test AUC: 0.7488\n",
            "Epoch: 121, Loss: 0.6985, Val AUC: 0.7638, Test AUC: 0.7573\n",
            "Epoch: 122, Loss: 0.6984, Val AUC: 0.7582, Test AUC: 0.7559\n",
            "Epoch: 123, Loss: 0.6984, Val AUC: 0.7535, Test AUC: 0.7564\n",
            "Epoch: 124, Loss: 0.6986, Val AUC: 0.7493, Test AUC: 0.7479\n",
            "Epoch: 125, Loss: 0.6985, Val AUC: 0.7559, Test AUC: 0.7509\n",
            "Epoch: 126, Loss: 0.6983, Val AUC: 0.7631, Test AUC: 0.7457\n",
            "Epoch: 127, Loss: 0.6984, Val AUC: 0.7490, Test AUC: 0.7507\n",
            "Epoch: 128, Loss: 0.6985, Val AUC: 0.7612, Test AUC: 0.7543\n",
            "Epoch: 129, Loss: 0.6984, Val AUC: 0.7302, Test AUC: 0.7605\n",
            "Epoch: 130, Loss: 0.6985, Val AUC: 0.7616, Test AUC: 0.7519\n",
            "Epoch: 131, Loss: 0.6984, Val AUC: 0.7462, Test AUC: 0.7649\n",
            "Epoch: 132, Loss: 0.6983, Val AUC: 0.7506, Test AUC: 0.7572\n",
            "Epoch: 133, Loss: 0.6985, Val AUC: 0.7482, Test AUC: 0.7521\n",
            "Epoch: 134, Loss: 0.6984, Val AUC: 0.7326, Test AUC: 0.7410\n",
            "Epoch: 135, Loss: 0.6983, Val AUC: 0.7595, Test AUC: 0.7502\n",
            "Epoch: 136, Loss: 0.6984, Val AUC: 0.7502, Test AUC: 0.7466\n",
            "Epoch: 137, Loss: 0.6986, Val AUC: 0.7675, Test AUC: 0.7435\n",
            "Epoch: 138, Loss: 0.6984, Val AUC: 0.7498, Test AUC: 0.7440\n",
            "Epoch: 139, Loss: 0.6984, Val AUC: 0.7530, Test AUC: 0.7497\n",
            "Epoch: 140, Loss: 0.6981, Val AUC: 0.7459, Test AUC: 0.7532\n",
            "Epoch: 141, Loss: 0.6986, Val AUC: 0.7549, Test AUC: 0.7690\n",
            "Epoch: 142, Loss: 0.6986, Val AUC: 0.7436, Test AUC: 0.7537\n",
            "Epoch: 143, Loss: 0.6983, Val AUC: 0.7488, Test AUC: 0.7604\n",
            "Epoch: 144, Loss: 0.6982, Val AUC: 0.7545, Test AUC: 0.7572\n",
            "Epoch: 145, Loss: 0.6983, Val AUC: 0.7629, Test AUC: 0.7559\n",
            "Epoch: 146, Loss: 0.6983, Val AUC: 0.7463, Test AUC: 0.7503\n",
            "Epoch: 147, Loss: 0.6984, Val AUC: 0.7574, Test AUC: 0.7603\n",
            "Epoch: 148, Loss: 0.6983, Val AUC: 0.7664, Test AUC: 0.7632\n",
            "Epoch: 149, Loss: 0.6984, Val AUC: 0.7636, Test AUC: 0.7556\n",
            "Epoch: 150, Loss: 0.6984, Val AUC: 0.7517, Test AUC: 0.7440\n",
            "Epoch: 151, Loss: 0.6983, Val AUC: 0.7473, Test AUC: 0.7470\n",
            "Epoch: 152, Loss: 0.6984, Val AUC: 0.7509, Test AUC: 0.7481\n",
            "Epoch: 153, Loss: 0.6984, Val AUC: 0.7586, Test AUC: 0.7511\n",
            "Epoch: 154, Loss: 0.6983, Val AUC: 0.7635, Test AUC: 0.7486\n",
            "Epoch: 155, Loss: 0.6986, Val AUC: 0.7408, Test AUC: 0.7600\n",
            "Epoch: 156, Loss: 0.6984, Val AUC: 0.7436, Test AUC: 0.7494\n",
            "Epoch: 157, Loss: 0.6984, Val AUC: 0.7549, Test AUC: 0.7460\n",
            "Epoch: 158, Loss: 0.6985, Val AUC: 0.7656, Test AUC: 0.7467\n",
            "Epoch: 159, Loss: 0.6983, Val AUC: 0.7563, Test AUC: 0.7457\n",
            "Epoch: 160, Loss: 0.6985, Val AUC: 0.7541, Test AUC: 0.7521\n",
            "Epoch: 161, Loss: 0.6983, Val AUC: 0.7543, Test AUC: 0.7511\n",
            "Epoch: 162, Loss: 0.6984, Val AUC: 0.7387, Test AUC: 0.7570\n",
            "Epoch: 163, Loss: 0.6985, Val AUC: 0.7601, Test AUC: 0.7590\n",
            "Epoch: 164, Loss: 0.6985, Val AUC: 0.7434, Test AUC: 0.7581\n",
            "Epoch: 165, Loss: 0.6983, Val AUC: 0.7489, Test AUC: 0.7525\n",
            "Epoch: 166, Loss: 0.6983, Val AUC: 0.7821, Test AUC: 0.7536\n",
            "Epoch: 167, Loss: 0.6985, Val AUC: 0.7615, Test AUC: 0.7546\n",
            "Epoch: 168, Loss: 0.6986, Val AUC: 0.7554, Test AUC: 0.7565\n",
            "Epoch: 169, Loss: 0.6983, Val AUC: 0.7630, Test AUC: 0.7450\n",
            "Epoch: 170, Loss: 0.6985, Val AUC: 0.7449, Test AUC: 0.7552\n",
            "Epoch: 171, Loss: 0.6984, Val AUC: 0.7486, Test AUC: 0.7475\n",
            "Epoch: 172, Loss: 0.6984, Val AUC: 0.7541, Test AUC: 0.7528\n",
            "Epoch: 173, Loss: 0.6985, Val AUC: 0.7639, Test AUC: 0.7676\n",
            "Epoch: 174, Loss: 0.6983, Val AUC: 0.7555, Test AUC: 0.7525\n",
            "Epoch: 175, Loss: 0.6987, Val AUC: 0.7694, Test AUC: 0.7503\n",
            "Epoch: 176, Loss: 0.6985, Val AUC: 0.7619, Test AUC: 0.7542\n",
            "Epoch: 177, Loss: 0.6985, Val AUC: 0.7614, Test AUC: 0.7654\n",
            "Epoch: 178, Loss: 0.6985, Val AUC: 0.7539, Test AUC: 0.7435\n",
            "Epoch: 179, Loss: 0.6982, Val AUC: 0.7759, Test AUC: 0.7456\n",
            "Epoch: 180, Loss: 0.6983, Val AUC: 0.7623, Test AUC: 0.7624\n",
            "Epoch: 181, Loss: 0.6985, Val AUC: 0.7485, Test AUC: 0.7527\n",
            "Epoch: 182, Loss: 0.6983, Val AUC: 0.7662, Test AUC: 0.7496\n",
            "Epoch: 183, Loss: 0.6984, Val AUC: 0.7560, Test AUC: 0.7579\n",
            "Epoch: 184, Loss: 0.6984, Val AUC: 0.7737, Test AUC: 0.7464\n",
            "Epoch: 185, Loss: 0.6986, Val AUC: 0.7599, Test AUC: 0.7444\n",
            "Epoch: 186, Loss: 0.6985, Val AUC: 0.7582, Test AUC: 0.7459\n",
            "Epoch: 187, Loss: 0.6984, Val AUC: 0.7442, Test AUC: 0.7611\n",
            "Epoch: 188, Loss: 0.6983, Val AUC: 0.7677, Test AUC: 0.7523\n",
            "Epoch: 189, Loss: 0.6984, Val AUC: 0.7599, Test AUC: 0.7550\n",
            "Epoch: 190, Loss: 0.6984, Val AUC: 0.7477, Test AUC: 0.7584\n",
            "Epoch: 191, Loss: 0.6986, Val AUC: 0.7617, Test AUC: 0.7656\n",
            "Epoch: 192, Loss: 0.6984, Val AUC: 0.7489, Test AUC: 0.7563\n",
            "Epoch: 193, Loss: 0.6982, Val AUC: 0.7530, Test AUC: 0.7357\n",
            "Epoch: 194, Loss: 0.6985, Val AUC: 0.7544, Test AUC: 0.7503\n",
            "Epoch: 195, Loss: 0.6985, Val AUC: 0.7489, Test AUC: 0.7477\n",
            "Epoch: 196, Loss: 0.6983, Val AUC: 0.7451, Test AUC: 0.7467\n",
            "Epoch: 197, Loss: 0.6984, Val AUC: 0.7495, Test AUC: 0.7338\n",
            "Epoch: 198, Loss: 0.6985, Val AUC: 0.7463, Test AUC: 0.7639\n",
            "Epoch: 199, Loss: 0.6984, Val AUC: 0.7533, Test AUC: 0.7579\n",
            "Epoch: 200, Loss: 0.6983, Val AUC: 0.7627, Test AUC: 0.7484\n",
            "Epoch: 201, Loss: 0.6985, Val AUC: 0.7691, Test AUC: 0.7550\n",
            "Epoch: 202, Loss: 0.6984, Val AUC: 0.7517, Test AUC: 0.7463\n",
            "Epoch: 203, Loss: 0.6984, Val AUC: 0.7646, Test AUC: 0.7542\n",
            "Epoch: 204, Loss: 0.6984, Val AUC: 0.7543, Test AUC: 0.7409\n",
            "Epoch: 205, Loss: 0.6985, Val AUC: 0.7553, Test AUC: 0.7573\n",
            "Epoch: 206, Loss: 0.6985, Val AUC: 0.7528, Test AUC: 0.7650\n",
            "Epoch: 207, Loss: 0.6984, Val AUC: 0.7513, Test AUC: 0.7506\n",
            "Epoch: 208, Loss: 0.6984, Val AUC: 0.7624, Test AUC: 0.7546\n",
            "Epoch: 209, Loss: 0.6984, Val AUC: 0.7559, Test AUC: 0.7350\n",
            "Epoch: 210, Loss: 0.6986, Val AUC: 0.7465, Test AUC: 0.7470\n",
            "Epoch: 211, Loss: 0.6984, Val AUC: 0.7693, Test AUC: 0.7477\n",
            "Epoch: 212, Loss: 0.6984, Val AUC: 0.7442, Test AUC: 0.7473\n",
            "Epoch: 213, Loss: 0.6984, Val AUC: 0.7434, Test AUC: 0.7573\n",
            "Epoch: 214, Loss: 0.6984, Val AUC: 0.7624, Test AUC: 0.7623\n",
            "Epoch: 215, Loss: 0.6983, Val AUC: 0.7446, Test AUC: 0.7606\n",
            "Epoch: 216, Loss: 0.6984, Val AUC: 0.7350, Test AUC: 0.7557\n",
            "Epoch: 217, Loss: 0.6985, Val AUC: 0.7500, Test AUC: 0.7425\n",
            "Epoch: 218, Loss: 0.6984, Val AUC: 0.7578, Test AUC: 0.7466\n",
            "Epoch: 219, Loss: 0.6984, Val AUC: 0.7492, Test AUC: 0.7493\n",
            "Epoch: 220, Loss: 0.6985, Val AUC: 0.7419, Test AUC: 0.7558\n",
            "Epoch: 221, Loss: 0.6983, Val AUC: 0.7361, Test AUC: 0.7559\n",
            "Epoch: 222, Loss: 0.6984, Val AUC: 0.7445, Test AUC: 0.7500\n",
            "Epoch: 223, Loss: 0.6985, Val AUC: 0.7623, Test AUC: 0.7517\n",
            "Epoch: 224, Loss: 0.6987, Val AUC: 0.7478, Test AUC: 0.7468\n",
            "Epoch: 225, Loss: 0.6984, Val AUC: 0.7586, Test AUC: 0.7544\n",
            "Epoch: 226, Loss: 0.6984, Val AUC: 0.7460, Test AUC: 0.7547\n",
            "Epoch: 227, Loss: 0.6986, Val AUC: 0.7455, Test AUC: 0.7494\n",
            "Epoch: 228, Loss: 0.6983, Val AUC: 0.7644, Test AUC: 0.7692\n",
            "Epoch: 229, Loss: 0.6986, Val AUC: 0.7588, Test AUC: 0.7492\n",
            "Epoch: 230, Loss: 0.6984, Val AUC: 0.7526, Test AUC: 0.7556\n",
            "Epoch: 231, Loss: 0.6985, Val AUC: 0.7520, Test AUC: 0.7688\n",
            "Epoch: 232, Loss: 0.6985, Val AUC: 0.7504, Test AUC: 0.7451\n",
            "Epoch: 233, Loss: 0.6984, Val AUC: 0.7282, Test AUC: 0.7440\n",
            "Epoch: 234, Loss: 0.6985, Val AUC: 0.7642, Test AUC: 0.7558\n",
            "Epoch: 235, Loss: 0.6985, Val AUC: 0.7480, Test AUC: 0.7560\n",
            "Epoch: 236, Loss: 0.6986, Val AUC: 0.7562, Test AUC: 0.7512\n",
            "Epoch: 237, Loss: 0.6985, Val AUC: 0.7680, Test AUC: 0.7557\n",
            "Epoch: 238, Loss: 0.6984, Val AUC: 0.7683, Test AUC: 0.7387\n",
            "Epoch: 239, Loss: 0.6985, Val AUC: 0.7570, Test AUC: 0.7474\n",
            "Epoch: 240, Loss: 0.6984, Val AUC: 0.7494, Test AUC: 0.7364\n",
            "Epoch: 241, Loss: 0.6984, Val AUC: 0.7723, Test AUC: 0.7556\n",
            "Epoch: 242, Loss: 0.6986, Val AUC: 0.7644, Test AUC: 0.7516\n",
            "Epoch: 243, Loss: 0.6985, Val AUC: 0.7525, Test AUC: 0.7583\n",
            "Epoch: 244, Loss: 0.6986, Val AUC: 0.7514, Test AUC: 0.7520\n",
            "Epoch: 245, Loss: 0.6984, Val AUC: 0.7643, Test AUC: 0.7517\n",
            "Epoch: 246, Loss: 0.6985, Val AUC: 0.7475, Test AUC: 0.7481\n",
            "Epoch: 247, Loss: 0.6986, Val AUC: 0.7719, Test AUC: 0.7665\n",
            "Epoch: 248, Loss: 0.6986, Val AUC: 0.7433, Test AUC: 0.7559\n",
            "Epoch: 249, Loss: 0.6986, Val AUC: 0.7621, Test AUC: 0.7582\n",
            "Epoch: 250, Loss: 0.6983, Val AUC: 0.7583, Test AUC: 0.7622\n",
            "Epoch: 251, Loss: 0.6985, Val AUC: 0.7549, Test AUC: 0.7484\n",
            "Epoch: 252, Loss: 0.6985, Val AUC: 0.7534, Test AUC: 0.7506\n",
            "Epoch: 253, Loss: 0.6985, Val AUC: 0.7604, Test AUC: 0.7473\n",
            "Epoch: 254, Loss: 0.6983, Val AUC: 0.7573, Test AUC: 0.7433\n",
            "Epoch: 255, Loss: 0.6985, Val AUC: 0.7635, Test AUC: 0.7518\n",
            "Epoch: 256, Loss: 0.6984, Val AUC: 0.7559, Test AUC: 0.7411\n",
            "Epoch: 257, Loss: 0.6983, Val AUC: 0.7602, Test AUC: 0.7568\n",
            "Epoch: 258, Loss: 0.6985, Val AUC: 0.7672, Test AUC: 0.7577\n",
            "Epoch: 259, Loss: 0.6984, Val AUC: 0.7427, Test AUC: 0.7390\n",
            "Epoch: 260, Loss: 0.6985, Val AUC: 0.7743, Test AUC: 0.7476\n",
            "Epoch: 261, Loss: 0.6984, Val AUC: 0.7439, Test AUC: 0.7653\n",
            "Epoch: 262, Loss: 0.6985, Val AUC: 0.7501, Test AUC: 0.7548\n",
            "Epoch: 263, Loss: 0.6983, Val AUC: 0.7386, Test AUC: 0.7501\n",
            "Epoch: 264, Loss: 0.6984, Val AUC: 0.7541, Test AUC: 0.7439\n",
            "Epoch: 265, Loss: 0.6984, Val AUC: 0.7367, Test AUC: 0.7420\n",
            "Epoch: 266, Loss: 0.6984, Val AUC: 0.7767, Test AUC: 0.7311\n",
            "Epoch: 267, Loss: 0.6983, Val AUC: 0.7493, Test AUC: 0.7442\n",
            "Epoch: 268, Loss: 0.6984, Val AUC: 0.7430, Test AUC: 0.7596\n",
            "Epoch: 269, Loss: 0.6986, Val AUC: 0.7505, Test AUC: 0.7573\n",
            "Epoch: 270, Loss: 0.6985, Val AUC: 0.7697, Test AUC: 0.7502\n",
            "Epoch: 271, Loss: 0.6983, Val AUC: 0.7251, Test AUC: 0.7565\n",
            "Epoch: 272, Loss: 0.6985, Val AUC: 0.7537, Test AUC: 0.7449\n",
            "Epoch: 273, Loss: 0.6984, Val AUC: 0.7558, Test AUC: 0.7588\n",
            "Epoch: 274, Loss: 0.6985, Val AUC: 0.7561, Test AUC: 0.7401\n",
            "Epoch: 275, Loss: 0.6983, Val AUC: 0.7545, Test AUC: 0.7413\n",
            "Epoch: 276, Loss: 0.6984, Val AUC: 0.7672, Test AUC: 0.7437\n",
            "Epoch: 277, Loss: 0.6984, Val AUC: 0.7602, Test AUC: 0.7583\n",
            "Epoch: 278, Loss: 0.6985, Val AUC: 0.7558, Test AUC: 0.7497\n",
            "Epoch: 279, Loss: 0.6986, Val AUC: 0.7531, Test AUC: 0.7547\n",
            "Epoch: 280, Loss: 0.6984, Val AUC: 0.7378, Test AUC: 0.7600\n",
            "Epoch: 281, Loss: 0.6984, Val AUC: 0.7507, Test AUC: 0.7588\n",
            "Epoch: 282, Loss: 0.6986, Val AUC: 0.7520, Test AUC: 0.7549\n",
            "Epoch: 283, Loss: 0.6985, Val AUC: 0.7568, Test AUC: 0.7479\n",
            "Epoch: 284, Loss: 0.6985, Val AUC: 0.7594, Test AUC: 0.7587\n",
            "Epoch: 285, Loss: 0.6985, Val AUC: 0.7658, Test AUC: 0.7441\n",
            "Epoch: 286, Loss: 0.6984, Val AUC: 0.7658, Test AUC: 0.7556\n",
            "Epoch: 287, Loss: 0.6984, Val AUC: 0.7598, Test AUC: 0.7421\n",
            "Epoch: 288, Loss: 0.6985, Val AUC: 0.7424, Test AUC: 0.7462\n",
            "Epoch: 289, Loss: 0.6986, Val AUC: 0.7549, Test AUC: 0.7500\n",
            "Epoch: 290, Loss: 0.6981, Val AUC: 0.7484, Test AUC: 0.7508\n",
            "Epoch: 291, Loss: 0.6984, Val AUC: 0.7502, Test AUC: 0.7534\n",
            "Epoch: 292, Loss: 0.6984, Val AUC: 0.7492, Test AUC: 0.7401\n",
            "Epoch: 293, Loss: 0.6985, Val AUC: 0.7406, Test AUC: 0.7491\n",
            "Epoch: 294, Loss: 0.6984, Val AUC: 0.7457, Test AUC: 0.7523\n",
            "Epoch: 295, Loss: 0.6985, Val AUC: 0.7720, Test AUC: 0.7704\n",
            "Epoch: 296, Loss: 0.6985, Val AUC: 0.7536, Test AUC: 0.7545\n",
            "Epoch: 297, Loss: 0.6983, Val AUC: 0.7443, Test AUC: 0.7571\n",
            "Epoch: 298, Loss: 0.6985, Val AUC: 0.7644, Test AUC: 0.7529\n",
            "Epoch: 299, Loss: 0.6984, Val AUC: 0.7571, Test AUC: 0.7513\n",
            "Epoch: 300, Loss: 0.6983, Val AUC: 0.7643, Test AUC: 0.7577\n",
            "Final Test: 0.8655\n"
          ]
        }
      ]
    }
  ]
}